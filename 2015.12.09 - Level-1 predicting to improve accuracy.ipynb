{
 "cells": [
  {
   "cell_type": "markdown",
   "metadata": {},
   "source": [
    "# Investigating Misclassifications (cont...)"
   ]
  },
  {
   "cell_type": "code",
   "execution_count": 5,
   "metadata": {
    "collapsed": true
   },
   "outputs": [],
   "source": [
    "import os\n",
    "os.chdir('C:\\Users\\Lundi\\Documents\\Programming\\Python\\Kaggle\\Digits')\n",
    "#os.chdir('/Users/alexsutherland/Documents/Programming/Python/Kaggle/Digits')\n",
    "import time\n",
    "\n",
    "import numpy as np\n",
    "import pandas as pd\n",
    "\n",
    "%matplotlib inline\n",
    "import matplotlib.pyplot as plt\n",
    "import seaborn as sns\n",
    "\n",
    "import sklearn.svm as skl_svm\n",
    "import sklearn.cross_validation as skl_cv\n",
    "from sklearn.grid_search import GridSearchCV\n",
    "\n",
    "classification_probability_data = pd.read_csv('Data/svc_classification_data.csv')"
   ]
  },
  {
   "cell_type": "markdown",
   "metadata": {},
   "source": [
    "## Classification probabilites\n",
    "\n",
    "First, I need to load the data:"
   ]
  },
  {
   "cell_type": "code",
   "execution_count": 2,
   "metadata": {
    "collapsed": true
   },
   "outputs": [],
   "source": [
    "digit_data = pd.read_csv('Data/train.csv')\n",
    "\n",
    "X = digit_data.ix[:,1:digit_data.shape[1]]\n",
    "y = digit_data['label']"
   ]
  },
  {
   "cell_type": "markdown",
   "metadata": {},
   "source": [
    "Next, I will generate a prediction for each element in a subset of the full data. Furthermore, I need the prediction probabilities for these same samples. Therefore, I will run a custom cross-validation to get both of these:"
   ]
  },
  {
   "cell_type": "markdown",
   "metadata": {
    "collapsed": true
   },
   "source": [
    "## Predicting with prediction probabilities\n",
    "\n",
    "Given the prediction probabilities, can I generate an AdaBoost tree model that will improve the prediction accuracy?\n",
    "\n",
    "First, let's calculate the current CV accuracy:"
   ]
  },
  {
   "cell_type": "code",
   "execution_count": 6,
   "metadata": {
    "collapsed": false
   },
   "outputs": [
    {
     "data": {
      "text/plain": [
       "0.9759523809523809"
      ]
     },
     "execution_count": 6,
     "metadata": {},
     "output_type": "execute_result"
    }
   ],
   "source": [
    "np.mean(map(lambda prediction: 1 if prediction else 0, classification_probability_data['is_correct']))"
   ]
  },
  {
   "cell_type": "markdown",
   "metadata": {},
   "source": [
    "### Generating design matrix with prediction probabilities"
   ]
  },
  {
   "cell_type": "code",
   "execution_count": 7,
   "metadata": {
    "collapsed": false
   },
   "outputs": [],
   "source": [
    "X_pp = classification_probability_data.drop(['is_correct','Actual','Predicted'], axis=1)\n",
    "y_pp = classification_probability_data['Actual']\n",
    "\n",
    "X_pp_train, X_pp_test, y_pp_train, y_pp_test = skl_cv.train_test_split(X_pp, y_pp, test_size = 0.2)"
   ]
  },
  {
   "cell_type": "code",
   "execution_count": 8,
   "metadata": {
    "collapsed": false
   },
   "outputs": [],
   "source": [
    "import sklearn.ensemble as skl_ensemble\n",
    "import sklearn.tree as skl_tree\n",
    "\n",
    "dt_stump_clf = skl_tree.DecisionTreeClassifier(max_depth=1)\n",
    "dt_clf = skl_tree.DecisionTreeClassifier()"
   ]
  },
  {
   "cell_type": "markdown",
   "metadata": {},
   "source": [
    "#### Base Estimator accuracy"
   ]
  },
  {
   "cell_type": "code",
   "execution_count": 9,
   "metadata": {
    "collapsed": false
   },
   "outputs": [
    {
     "data": {
      "text/plain": [
       "0.2146430070143801"
      ]
     },
     "execution_count": 9,
     "metadata": {},
     "output_type": "execute_result"
    }
   ],
   "source": [
    "accuracy_dt_stump = np.mean(skl_cv.cross_val_score(dt_stump_clf, X_pp, y_pp, cv=5))\n",
    "accuracy_dt_stump"
   ]
  },
  {
   "cell_type": "markdown",
   "metadata": {},
   "source": [
    "This is a terrible accuracy. Let's see if we can tune it to improve the model:"
   ]
  },
  {
   "cell_type": "code",
   "execution_count": 11,
   "metadata": {
    "collapsed": false
   },
   "outputs": [
    {
     "data": {
      "text/plain": [
       "GridSearchCV(cv=10, error_score='raise',\n",
       "       estimator=DecisionTreeClassifier(class_weight=None, criterion='gini', max_depth=None,\n",
       "            max_features=None, max_leaf_nodes=None, min_samples_leaf=1,\n",
       "            min_samples_split=2, min_weight_fraction_leaf=0.0,\n",
       "            presort=False, random_state=None, splitter='best'),\n",
       "       fit_params={}, iid=True, n_jobs=1,\n",
       "       param_grid=[{'criterion': ['entropy'], 'max_depth': [None, 1, 2, 3, 4, 5, 6], 'min_samples_leaf': [1, 2, 3, 4]}],\n",
       "       pre_dispatch='2*n_jobs', refit=True, scoring=None, verbose=0)"
      ]
     },
     "execution_count": 11,
     "metadata": {},
     "output_type": "execute_result"
    }
   ],
   "source": [
    "param_grid = [\n",
    "    {'criterion': ['gini'], 'max_depth': [None,1,2,3,4,5,6], 'min_samples_leaf': [1,2,3,4]},\n",
    "    {'criterion': ['entropy'], 'max_depth': [None,1,2,3,4,5,6], 'min_samples_leaf': [1,2,3,4]}\n",
    "]\n",
    "\n",
    "dt_gs_clf = GridSearchCV(estimator=dt_clf, param_grid = param_grid, cv=10)\n",
    "dt_gs_clf.fit(X_pp, y_pp)"
   ]
  },
  {
   "cell_type": "code",
   "execution_count": 13,
   "metadata": {
    "collapsed": false
   },
   "outputs": [
    {
     "name": "stdout",
     "output_type": "stream",
     "text": [
      "0.9615 {'criterion': 'entropy', 'max_depth': None, 'min_samples_leaf': 1}\n",
      "0.963404761905 {'criterion': 'entropy', 'max_depth': None, 'min_samples_leaf': 2}\n",
      "0.966738095238 {'criterion': 'entropy', 'max_depth': None, 'min_samples_leaf': 3}\n",
      "0.967761904762 {'criterion': 'entropy', 'max_depth': None, 'min_samples_leaf': 4}\n",
      "0.214833333333 {'criterion': 'entropy', 'max_depth': 1, 'min_samples_leaf': 1}\n",
      "0.214833333333 {'criterion': 'entropy', 'max_depth': 1, 'min_samples_leaf': 2}\n",
      "0.214833333333 {'criterion': 'entropy', 'max_depth': 1, 'min_samples_leaf': 3}\n",
      "0.214833333333 {'criterion': 'entropy', 'max_depth': 1, 'min_samples_leaf': 4}\n",
      "0.316380952381 {'criterion': 'entropy', 'max_depth': 2, 'min_samples_leaf': 1}\n",
      "0.316380952381 {'criterion': 'entropy', 'max_depth': 2, 'min_samples_leaf': 2}\n",
      "0.316380952381 {'criterion': 'entropy', 'max_depth': 2, 'min_samples_leaf': 3}\n",
      "0.316380952381 {'criterion': 'entropy', 'max_depth': 2, 'min_samples_leaf': 4}\n",
      "0.413714285714 {'criterion': 'entropy', 'max_depth': 3, 'min_samples_leaf': 1}\n",
      "0.413714285714 {'criterion': 'entropy', 'max_depth': 3, 'min_samples_leaf': 2}\n",
      "0.413714285714 {'criterion': 'entropy', 'max_depth': 3, 'min_samples_leaf': 3}\n",
      "0.413714285714 {'criterion': 'entropy', 'max_depth': 3, 'min_samples_leaf': 4}\n",
      "0.510857142857 {'criterion': 'entropy', 'max_depth': 4, 'min_samples_leaf': 1}\n",
      "0.510857142857 {'criterion': 'entropy', 'max_depth': 4, 'min_samples_leaf': 2}\n",
      "0.510857142857 {'criterion': 'entropy', 'max_depth': 4, 'min_samples_leaf': 3}\n",
      "0.510880952381 {'criterion': 'entropy', 'max_depth': 4, 'min_samples_leaf': 4}\n",
      "0.6065 {'criterion': 'entropy', 'max_depth': 5, 'min_samples_leaf': 1}\n",
      "0.606547619048 {'criterion': 'entropy', 'max_depth': 5, 'min_samples_leaf': 2}\n",
      "0.606476190476 {'criterion': 'entropy', 'max_depth': 5, 'min_samples_leaf': 3}\n",
      "0.606452380952 {'criterion': 'entropy', 'max_depth': 5, 'min_samples_leaf': 4}\n",
      "0.700880952381 {'criterion': 'entropy', 'max_depth': 6, 'min_samples_leaf': 1}\n",
      "0.700976190476 {'criterion': 'entropy', 'max_depth': 6, 'min_samples_leaf': 2}\n",
      "0.700928571429 {'criterion': 'entropy', 'max_depth': 6, 'min_samples_leaf': 3}\n",
      "0.700952380952 {'criterion': 'entropy', 'max_depth': 6, 'min_samples_leaf': 4}\n"
     ]
    }
   ],
   "source": [
    "for params, mean_score, scores in dt_gs_clf.grid_scores_:\n",
    "    print mean_score, params"
   ]
  },
  {
   "cell_type": "markdown",
   "metadata": {},
   "source": [
    "This shows that the model really needs a deep depth to get predictions correct. Let's hash this out a bit more:"
   ]
  },
  {
   "cell_type": "code",
   "execution_count": 14,
   "metadata": {
    "collapsed": false
   },
   "outputs": [
    {
     "data": {
      "text/plain": [
       "GridSearchCV(cv=10, error_score='raise',\n",
       "       estimator=DecisionTreeClassifier(class_weight=None, criterion='gini', max_depth=None,\n",
       "            max_features=None, max_leaf_nodes=None, min_samples_leaf=1,\n",
       "            min_samples_split=2, min_weight_fraction_leaf=0.0,\n",
       "            presort=False, random_state=None, splitter='best'),\n",
       "       fit_params={}, iid=True, n_jobs=1,\n",
       "       param_grid=[{'criterion': ['entropy'], 'max_depth': [1, 2, 3, 4, 5, 6, 7, 8, 9, 10, 11, 12, 13, 14, 15, 16, 17]}],\n",
       "       pre_dispatch='2*n_jobs', refit=True, scoring=None, verbose=0)"
      ]
     },
     "execution_count": 14,
     "metadata": {},
     "output_type": "execute_result"
    }
   ],
   "source": [
    "param_grid_max_depth = [\n",
    "    {'criterion': ['entropy'], 'max_depth': [1,2,3,4,5,6,7,8,9,10,11,12,13,14,15,16,17]}\n",
    "]\n",
    "\n",
    "dt_gs_max_depth_clf = GridSearchCV(estimator=dt_clf, param_grid = param_grid_max_depth, cv=10)\n",
    "dt_gs_max_depth_clf.fit(X_pp, y_pp)"
   ]
  },
  {
   "cell_type": "code",
   "execution_count": 16,
   "metadata": {
    "collapsed": false
   },
   "outputs": [
    {
     "name": "stdout",
     "output_type": "stream",
     "text": [
      "0.214833333333 {'criterion': 'entropy', 'max_depth': 1}\n",
      "0.316380952381 {'criterion': 'entropy', 'max_depth': 2}\n",
      "0.413714285714 {'criterion': 'entropy', 'max_depth': 3}\n",
      "0.510857142857 {'criterion': 'entropy', 'max_depth': 4}\n",
      "0.606476190476 {'criterion': 'entropy', 'max_depth': 5}\n",
      "0.700952380952 {'criterion': 'entropy', 'max_depth': 6}\n",
      "0.793785714286 {'criterion': 'entropy', 'max_depth': 7}\n",
      "0.883666666667 {'criterion': 'entropy', 'max_depth': 8}\n",
      "0.972571428571 {'criterion': 'entropy', 'max_depth': 9}\n",
      "0.969119047619 {'criterion': 'entropy', 'max_depth': 10}\n",
      "0.970738095238 {'criterion': 'entropy', 'max_depth': 11}\n",
      "0.969571428571 {'criterion': 'entropy', 'max_depth': 12}\n",
      "0.966261904762 {'criterion': 'entropy', 'max_depth': 13}\n",
      "0.966761904762 {'criterion': 'entropy', 'max_depth': 14}\n",
      "0.965452380952 {'criterion': 'entropy', 'max_depth': 15}\n",
      "0.965428571429 {'criterion': 'entropy', 'max_depth': 16}\n",
      "0.964261904762 {'criterion': 'entropy', 'max_depth': 17}\n"
     ]
    }
   ],
   "source": [
    "dt_gs_max_depth_results_list = []\n",
    "for params, mean_score, scores in dt_gs_max_depth_clf.grid_scores_:\n",
    "    print mean_score, params\n",
    "    dt_gs_max_depth_results_list.append([mean_score, params['max_depth']])\n",
    "dt_gs_max_depth_results_df = pd.DataFrame(dt_gs_max_depth_results_list, columns=['mean_score','max_depth'])"
   ]
  },
  {
   "cell_type": "markdown",
   "metadata": {},
   "source": [
    "Plotting this"
   ]
  },
  {
   "cell_type": "code",
   "execution_count": 21,
   "metadata": {
    "collapsed": false
   },
   "outputs": [
    {
     "data": {
      "text/plain": [
       "(0.9, 1)"
      ]
     },
     "execution_count": 21,
     "metadata": {},
     "output_type": "execute_result"
    },
    {
     "data": {
      "image/png": "[encoded data removed]",
      "text/plain": [
       "<matplotlib.figure.Figure at 0x277c36a0>"
      ]
     },
     "metadata": {},
     "output_type": "display_data"
    }
   ],
   "source": [
    "plt.plot(dt_gs_max_depth_results_df['max_depth'], dt_gs_max_depth_results_df['mean_score'])\n",
    "ax = plt.gca()\n",
    "ax.set_xlabel('Max Depth')\n",
    "ax.set_ylabel('Mean Score')\n",
    "ax.set_ylim([0.9,1])"
   ]
  },
  {
   "cell_type": "markdown",
   "metadata": {},
   "source": [
    "So this shows that a decision tree with a maximum of 9 splits works the best. This makes some sense because there are 10 numbers and each one should need a split before the model can be accurate. \n",
    "\n",
    "Let's apply this to bagging first:"
   ]
  },
  {
   "cell_type": "markdown",
   "metadata": {},
   "source": [
    "## Bagging with DTs"
   ]
  },
  {
   "cell_type": "code",
   "execution_count": 25,
   "metadata": {
    "collapsed": false
   },
   "outputs": [],
   "source": [
    "bagging_clf = skl_ensemble.BaggingClassifier(\n",
    "    base_estimator=dt_gs_max_depth_clf.best_estimator_,\n",
    "    n_estimators=10\n",
    ")\n",
    "mean_error_10 = np.mean(skl_cv.cross_val_score(bagging_clf, X_pp, y_pp, cv=5))\n",
    "\n",
    "bagging_clf = skl_ensemble.BaggingClassifier(\n",
    "    base_estimator=dt_gs_max_depth_clf.best_estimator_,\n",
    "    n_estimators=100\n",
    ")\n",
    "mean_error_100 = np.mean(skl_cv.cross_val_score(bagging_clf, X_pp, y_pp, cv=5))\n",
    "\n",
    "#bagging_gf_clf = GridSearchCV(bagging_clf, param_grid = [{'n_estimators': [10,100,1000,5000]}], cv=10)\n",
    "#bagging_gf_clf.fit(X_pp, y_pp)"
   ]
  },
  {
   "cell_type": "code",
   "execution_count": 26,
   "metadata": {
    "collapsed": false
   },
   "outputs": [
    {
     "data": {
      "text/plain": [
       "0.97535732865935942"
      ]
     },
     "execution_count": 26,
     "metadata": {},
     "output_type": "execute_result"
    }
   ],
   "source": [
    "mean_error_100"
   ]
  },
  {
   "cell_type": "code",
   "execution_count": 27,
   "metadata": {
    "collapsed": false
   },
   "outputs": [
    {
     "data": {
      "text/plain": [
       "0.97483370325011087"
      ]
     },
     "execution_count": 27,
     "metadata": {},
     "output_type": "execute_result"
    }
   ],
   "source": [
    "mean_error_10"
   ]
  },
  {
   "cell_type": "markdown",
   "metadata": {},
   "source": [
    "So bagging does not improve upon the 0.975 baseline from the level-0 model"
   ]
  },
  {
   "cell_type": "markdown",
   "metadata": {},
   "source": [
    "#### AdaBoost DT Model"
   ]
  },
  {
   "cell_type": "code",
   "execution_count": 28,
   "metadata": {
    "collapsed": true
   },
   "outputs": [],
   "source": [
    "ada_dt_stump_clf = skl_ensemble.AdaBoostClassifier(\n",
    "    base_estimator=dt_gs_max_depth_clf.best_estimator_,\n",
    "    n_estimators=300,\n",
    "    learning_rate=0.1\n",
    ")\n",
    "ada_dt_stump_clf.fit(X_pp_train, y_pp_train)\n",
    "\n",
    "ada_dt_stump_staged_accuracies = []\n",
    "for index, y_pred in enumerate(ada_dt_stump_clf.staged_predict(X_pp_test)):\n",
    "    current_accuracy = np.mean(y_pred == y_pp_test)\n",
    "    ada_dt_stump_staged_accuracies.append([index, current_accuracy])\n",
    "    ada_dt_stump_clf\n",
    "\n",
    "ada_dt_stump_staged_accuracies = pd.DataFrame(ada_dt_stump_staged_accuracies, columns=['Stage', 'Accuracy'])"
   ]
  },
  {
   "cell_type": "markdown",
   "metadata": {},
   "source": [
    "Plotting the staged accuracy of the DT"
   ]
  },
  {
   "cell_type": "code",
   "execution_count": 31,
   "metadata": {
    "collapsed": false
   },
   "outputs": [
    {
     "data": {
      "text/plain": [
       "<matplotlib.text.Text at 0x46929898>"
      ]
     },
     "execution_count": 31,
     "metadata": {},
     "output_type": "execute_result"
    },
    {
     "data": {
      "image/png": "[encoded data removed]",
      "text/plain": [
       "<matplotlib.figure.Figure at 0x217774e0>"
      ]
     },
     "metadata": {},
     "output_type": "display_data"
    }
   ],
   "source": [
    "plt.axhline(mean_error_100, color='black')\n",
    "plt.plot(ada_dt_stump_staged_accuracies['Stage'], ada_dt_stump_staged_accuracies['Accuracy'])\n",
    "ax = plt.gca()\n",
    "#ax.set_ylim([0,1])\n",
    "ax.legend(['Bagging', 'AdaBoost'])\n",
    "ax.set_xlabel('# of estimators')\n",
    "ax.set_ylabel('Accuracy')\n",
    "ax.set_title('Number Classification Accuracy of Difference Tree Models')    "
   ]
  },
  {
   "cell_type": "markdown",
   "metadata": {},
   "source": [
    "So AdaBoost only improves upon the Bagging model briefly before it falls below. "
   ]
  }
 ],
 "metadata": {
  "kernelspec": {
   "display_name": "Python 2",
   "language": "python",
   "name": "python2"
  },
  "language_info": {
   "codemirror_mode": {
    "name": "ipython",
    "version": 2
   },
   "file_extension": ".py",
   "mimetype": "text/x-python",
   "name": "python",
   "nbconvert_exporter": "python",
   "pygments_lexer": "ipython2",
   "version": "2.7.10"
  }
 },
 "nbformat": 4,
 "nbformat_minor": 0
}
