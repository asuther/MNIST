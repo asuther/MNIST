{
 "cells": [
  {
   "cell_type": "markdown",
   "metadata": {},
   "source": [
    "# Adding dummy var features regarding ellipses\n",
    "\n",
    ">1. Load original data\n",
    ">2. Create a function for 0 dummy var\n",
    ">3. Create a function for 1 dummy var\n",
    ">4. Create a function for 6 dummy var\n",
    ">5. Create a function for 8 dummy var\n",
    ">6. Create a function for 9 dummy var\n",
    ">7. Load intermediate data and append onto that"
   ]
  },
  {
   "cell_type": "code",
   "execution_count": 2,
   "metadata": {
    "collapsed": true
   },
   "outputs": [],
   "source": [
    "%matplotlib inline\n",
    "import numpy as np\n",
    "import pandas as pd\n",
    "import matplotlib.pyplot as plt\n",
    "import sklearn.svm as skl_svm\n",
    "import sklearn.cross_validation as skl_cv\n",
    "import seaborn as sns\n",
    "sns.set_context(context = 'notebook', font_scale=1.5)\n",
    "import os\n",
    "import sys\n",
    "import cv2\n",
    "\n",
    "base_path = '/home/lundi/Python/MNIST/'\n",
    "sys.path.append(base_path + '/libraries/')\n",
    "\n",
    "import MNIST_data_processor as mdp\n",
    "\n",
    "MNIST_data_processor = mdp.MNIST_data_processor()\n",
    "\n",
    "from matplotlib.patches import Ellipse"
   ]
  },
  {
   "cell_type": "markdown",
   "metadata": {},
   "source": [
    "## 1. Load original data"
   ]
  },
  {
   "cell_type": "code",
   "execution_count": 3,
   "metadata": {
    "collapsed": true
   },
   "outputs": [],
   "source": [
    "X, y = MNIST_data_processor.load_subset_data()\n",
    "\n",
    "dummy_vars = pd.DataFrame()"
   ]
  },
  {
   "cell_type": "markdown",
   "metadata": {},
   "source": [
    "## 2. Create a function for 0 dummy var"
   ]
  },
  {
   "cell_type": "code",
   "execution_count": 4,
   "metadata": {
    "collapsed": true
   },
   "outputs": [],
   "source": [
    "def convert_to_image(data):\n",
    "    img = np.zeros((28, 28,3))\n",
    "    img[:,:,0] = data.reshape(28,28)\n",
    "    img[:,:,1] = data.reshape(28,28)\n",
    "    img[:,:,2] = data.reshape(28,28)\n",
    "    \n",
    "    img = img.astype('uint8')\n",
    "    img = cv2.cvtColor(img, cv2.COLOR_BGR2GRAY)\n",
    "\n",
    "    return img\n",
    "\n",
    "def get_valid_contours(digit_data):\n",
    "    image = convert_to_image(digit_data)\n",
    "    \n",
    "    ret,thresh = cv2.threshold(image,127,255,0)\n",
    "    contours,hierarchy = cv2.findContours(thresh, 1, 2)\n",
    "\n",
    "    valid_contours = []\n",
    "    #Get the valid contours\n",
    "    for cnt in contours:\n",
    "        if len(cnt) >= 5:\n",
    "            valid_contours.append(cnt)\n",
    "    return valid_contours"
   ]
  },
  {
   "cell_type": "code",
   "execution_count": 5,
   "metadata": {
    "collapsed": true
   },
   "outputs": [],
   "source": [
    "def get_distance_between_ellipses(ellipse_1, ellipse_2):\n",
    "    return np.sqrt(((ellipse_1[0][0] - ellipse_2[0][0]) ** 2) + ((ellipse_1[0][1] - ellipse_2[0][1]) ** 2))"
   ]
  },
  {
   "cell_type": "code",
   "execution_count": 6,
   "metadata": {
    "collapsed": true
   },
   "outputs": [],
   "source": [
    "def get_center_to_center_dist(valid_contours):\n",
    "        \n",
    "    ellipse = []\n",
    "    ellipse_1 = cv2.fitEllipse(valid_contours[0])\n",
    "    ellipse_2 = cv2.fitEllipse(valid_contours[1])\n",
    "\n",
    "    distance = get_distance_between_ellipses(ellipse_1, ellipse_2)\n",
    "\n",
    "    return distance\n",
    "    "
   ]
  },
  {
   "cell_type": "code",
   "execution_count": 7,
   "metadata": {
    "collapsed": true
   },
   "outputs": [],
   "source": [
    "def get_ratio_of_areas_big_to_small(valid_contours):\n",
    "        \n",
    "    if len(valid_contours) == 2:\n",
    "        ellipse = []\n",
    "        ellipse_1 = cv2.fitEllipse(valid_contours[0])\n",
    "        ellipse_2 = cv2.fitEllipse(valid_contours[1])\n",
    "                \n",
    "        area_ellipse_1, area_ellipse_2 = (ellipse_1[1][0] * ellipse_1[1][1] * np.pi), (ellipse_2[1][0] * ellipse_2[1][1] * np.pi)\n",
    "        \n",
    "        ratio_of_areas = 1.0 * area_ellipse_1 / area_ellipse_2\n",
    "        if ratio_of_areas < 1:\n",
    "            ratio_of_areas = 1.0 / ratio_of_areas\n",
    "        return ratio_of_areas\n",
    "    else:\n",
    "        return -1"
   ]
  },
  {
   "cell_type": "code",
   "execution_count": 8,
   "metadata": {
    "collapsed": true
   },
   "outputs": [],
   "source": [
    "def get_0_dummy_var(digit_data):\n",
    "    \n",
    "    valid_contours = get_valid_contours(digit_data)\n",
    "    if len(valid_contours) == 2:\n",
    "        center_to_center_distance = get_center_to_center_dist(valid_contours)\n",
    "\n",
    "        if center_to_center_distance < 1.4:\n",
    "            ratio_of_area_big_to_small = get_ratio_of_areas_big_to_small(valid_contours)\n",
    "\n",
    "            if ratio_of_area_big_to_small < 3:\n",
    "                return 1\n",
    "    return 0"
   ]
  },
  {
   "cell_type": "code",
   "execution_count": 9,
   "metadata": {
    "collapsed": false,
    "scrolled": true
   },
   "outputs": [],
   "source": [
    "dummy_var_0 = X.apply(get_0_dummy_var, axis=1)\n",
    "dummy_vars = pd.DataFrame(dummy_var_0)\n",
    "dummy_vars = dummy_vars.rename(columns = {0: 'dummy_var_0'})"
   ]
  },
  {
   "cell_type": "markdown",
   "metadata": {},
   "source": [
    "## 3. Create a function for 1 dummy var"
   ]
  },
  {
   "cell_type": "code",
   "execution_count": 10,
   "metadata": {
    "collapsed": true
   },
   "outputs": [],
   "source": [
    "def get_aspect_ratio(ellipse):\n",
    "    aspect_ratio = ellipse[1][1] / ellipse[1][0]\n",
    "    return aspect_ratio\n",
    "\n",
    "def get_aspect_ratio_of_single_ellipses(valid_contours):\n",
    "        \n",
    "    if len(valid_contours) == 1:\n",
    "        ellipse_1 = cv2.fitEllipse(valid_contours[0])\n",
    "                        \n",
    "        return get_aspect_ratio(ellipse_1)\n",
    "    else:\n",
    "        return -1\n",
    "\n",
    "def get_1_dummy_var(digit_data):\n",
    "    \n",
    "    valid_contours = get_valid_contours(digit_data)\n",
    "\n",
    "    if len(valid_contours) == 1:\n",
    "        aspect_ratio = get_aspect_ratio_of_single_ellipses(valid_contours)\n",
    "\n",
    "        if aspect_ratio > 3.6:\n",
    "            return 1\n",
    "    return 0"
   ]
  },
  {
   "cell_type": "code",
   "execution_count": 11,
   "metadata": {
    "collapsed": false
   },
   "outputs": [],
   "source": [
    "dummy_var_1 = X.apply(get_1_dummy_var, axis=1)\n",
    "dummy_vars['dummy_var_1'] = dummy_var_1"
   ]
  },
  {
   "cell_type": "markdown",
   "metadata": {},
   "source": [
    "## 4. Create a function for 6 dummy var"
   ]
  },
  {
   "cell_type": "code",
   "execution_count": 12,
   "metadata": {
    "collapsed": true
   },
   "outputs": [],
   "source": [
    "def get_ratio_of_areas_top_to_bottom(valid_contours):\n",
    "    \n",
    "    ellipse = []\n",
    "    ellipse_1 = cv2.fitEllipse(valid_contours[0])\n",
    "    ellipse_2 = cv2.fitEllipse(valid_contours[1])\n",
    "\n",
    "    area_ellipse_1, area_ellipse_2 = (ellipse_1[1][0] * ellipse_1[1][1] * np.pi), (ellipse_2[1][0] * ellipse_2[1][1] * np.pi)\n",
    "\n",
    "    is_1_on_top = ellipse_1[0][1] < ellipse_2[0][1]\n",
    "    if is_1_on_top:\n",
    "        ratio_of_areas = area_ellipse_1 / area_ellipse_2\n",
    "    else:\n",
    "        ratio_of_areas = area_ellipse_2 / area_ellipse_1\n",
    "    return ratio_of_areas\n",
    "\n",
    "    \n",
    "def get_6_dummy_var(digit_data):\n",
    "    valid_contours = get_valid_contours(digit_data)\n",
    "    \n",
    "    if len(valid_contours) == 2:\n",
    "        ratio_of_area_top_to_bottom = get_ratio_of_areas_top_to_bottom(valid_contours)\n",
    "        \n",
    "        if ratio_of_area_top_to_bottom > 2:\n",
    "            center_to_center_dist = get_center_to_center_dist(valid_contours)\n",
    "            \n",
    "            if 2 < center_to_center_dist < 7:\n",
    "                return 1\n",
    "    return 0"
   ]
  },
  {
   "cell_type": "code",
   "execution_count": 13,
   "metadata": {
    "collapsed": true
   },
   "outputs": [],
   "source": [
    "dummy_var_6 = X.apply(get_6_dummy_var, axis=1)\n",
    "dummy_vars['dummy_var_6'] = dummy_var_6"
   ]
  },
  {
   "cell_type": "markdown",
   "metadata": {},
   "source": [
    "## 5. Create a function for 8 dummy var"
   ]
  },
  {
   "cell_type": "code",
   "execution_count": 14,
   "metadata": {
    "collapsed": true
   },
   "outputs": [],
   "source": [
    "def get_big_ellipse_in_center(valid_contours):\n",
    "    \n",
    "    ellipse = [0,0,0]\n",
    "    ellipse[0] = cv2.fitEllipse(valid_contours[0])\n",
    "    ellipse[1] = cv2.fitEllipse(valid_contours[1])\n",
    "    ellipse[2] = cv2.fitEllipse(valid_contours[2])\n",
    "\n",
    "    ellipse_area = [0,0,0]\n",
    "    ellipse_area[0] = (ellipse[0][1][0] * ellipse[0][1][1] * np.pi) \n",
    "    ellipse_area[1] = (ellipse[1][1][0] * ellipse[1][1][1] * np.pi)\n",
    "\n",
    "    ellipse_area[2] = (ellipse[2][1][0] * ellipse[2][1][1] * np.pi)\n",
    "\n",
    "\n",
    "    max_area_ellipse_index = pd.Series(ellipse_area).idxmax()\n",
    "    largest_ellipse = ellipse[max_area_ellipse_index]\n",
    "    other_ellipse_indexes = [0,1,2]\n",
    "    other_ellipse_indexes.remove(max_area_ellipse_index)\n",
    "\n",
    "    other_ellipse_1 = ellipse[other_ellipse_indexes[0]]\n",
    "    other_ellipse_2 = ellipse[other_ellipse_indexes[1]]\n",
    "\n",
    "    #If the 1st other ellipse is above the 2nd\n",
    "    if other_ellipse_1[0][1] < other_ellipse_2[0][1]:\n",
    "        top_ellipse = other_ellipse_1\n",
    "        bottom_ellipse = other_ellipse_2\n",
    "    else:\n",
    "        top_ellipse = other_ellipse_2\n",
    "        bottom_ellipse = other_ellipse_1\n",
    "\n",
    "    top_to_mid_dist = get_distance_between_ellipses(top_ellipse, largest_ellipse)\n",
    "    bottom_to_mid_dist = get_distance_between_ellipses(bottom_ellipse, largest_ellipse)\n",
    "\n",
    "    #The center ellipse should be larger than the 1st, and less than the second\n",
    "    is_in_middle = (largest_ellipse[0][1] > top_ellipse[0][1]) \\\n",
    "                        & (largest_ellipse[0][1] < bottom_ellipse[0][1])\n",
    "    return is_in_middle\n",
    "    \n",
    "def get_8_dummy_var(digit_data):\n",
    "    valid_contours = get_valid_contours(digit_data)\n",
    "    \n",
    "    if len(valid_contours) == 3:\n",
    "        is_big_ellipse_in_center = get_big_ellipse_in_center(valid_contours)\n",
    "        \n",
    "        if is_big_ellipse_in_center:\n",
    "            return 1\n",
    "    \n",
    "    return 0"
   ]
  },
  {
   "cell_type": "code",
   "execution_count": 15,
   "metadata": {
    "collapsed": true
   },
   "outputs": [],
   "source": [
    "dummy_var_8 = X.apply(get_8_dummy_var, axis=1)\n",
    "dummy_vars['dummy_var_8'] = dummy_var_8"
   ]
  },
  {
   "cell_type": "markdown",
   "metadata": {},
   "source": [
    "## 6. Create a function for 9 dummy var"
   ]
  },
  {
   "cell_type": "code",
   "execution_count": 16,
   "metadata": {
    "collapsed": true
   },
   "outputs": [],
   "source": [
    "def get_9_dummy_var(digit_data):\n",
    "    valid_contours = get_valid_contours(digit_data)\n",
    "    \n",
    "    if len(valid_contours) == 2:\n",
    "        ratio_of_area_top_to_bottom = get_ratio_of_areas_top_to_bottom(valid_contours)\n",
    "        \n",
    "        if ratio_of_area_top_to_bottom < 2:\n",
    "            center_to_center_dist = get_center_to_center_dist(valid_contours)\n",
    "            \n",
    "            if 1 < center_to_center_dist < 6:\n",
    "                return 1\n",
    "    return 0"
   ]
  },
  {
   "cell_type": "code",
   "execution_count": 17,
   "metadata": {
    "collapsed": false
   },
   "outputs": [],
   "source": [
    "dummy_var_9 = X.apply(get_9_dummy_var, axis=1)\n",
    "dummy_vars['dummy_var_9'] = dummy_var_9"
   ]
  },
  {
   "cell_type": "markdown",
   "metadata": {},
   "source": [
    "## 7. Load intermediate data and append onto that"
   ]
  },
  {
   "cell_type": "code",
   "execution_count": 18,
   "metadata": {
    "collapsed": true
   },
   "outputs": [],
   "source": [
    "intermediate_data = pd.read_csv('./../../data/intermediate/train_with_ellipse_count.csv')"
   ]
  },
  {
   "cell_type": "code",
   "execution_count": 19,
   "metadata": {
    "collapsed": false
   },
   "outputs": [],
   "source": [
    "data_ellipses = pd.concat([intermediate_data, dummy_vars], axis=1)"
   ]
  },
  {
   "cell_type": "code",
   "execution_count": 20,
   "metadata": {
    "collapsed": false
   },
   "outputs": [],
   "source": [
    "data_ellipses = data_ellipses[[u'label', u'ellipse_count',\n",
    "        u'dummy_var_0', u'dummy_var_1', u'dummy_var_6',\n",
    "        u'dummy_var_8', u'dummy_var_9']]"
   ]
  },
  {
   "cell_type": "code",
   "execution_count": 21,
   "metadata": {
    "collapsed": true
   },
   "outputs": [],
   "source": [
    "data_ellipses.to_csv('./../../data/processed/data_ellipses.csv', index=False)"
   ]
  },
  {
   "cell_type": "code",
   "execution_count": null,
   "metadata": {
    "collapsed": true
   },
   "outputs": [],
   "source": []
  }
 ],
 "metadata": {
  "kernelspec": {
   "display_name": "Python 2",
   "language": "python",
   "name": "python2"
  },
  "language_info": {
   "codemirror_mode": {
    "name": "ipython",
    "version": 2
   },
   "file_extension": ".py",
   "mimetype": "text/x-python",
   "name": "python",
   "nbconvert_exporter": "python",
   "pygments_lexer": "ipython2",
   "version": "2.7.12"
  }
 },
 "nbformat": 4,
 "nbformat_minor": 1
}
