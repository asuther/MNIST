{
 "cells": [
  {
   "cell_type": "markdown",
   "metadata": {},
   "source": [
    "# Adding pixels above and below center line\n",
    "\n",
    "**Methods:**\n",
    ">1. Load data\n",
    ">2. Calculate pixels above and below\n",
    ">3. Export to processed dataset"
   ]
  },
  {
   "cell_type": "code",
   "execution_count": 1,
   "metadata": {
    "collapsed": true
   },
   "outputs": [],
   "source": [
    "%matplotlib inline\n",
    "import numpy as np\n",
    "import pandas as pd\n",
    "import matplotlib.pyplot as plt\n",
    "import sklearn.svm as skl_svm\n",
    "import sklearn.cross_validation as skl_cv\n",
    "import seaborn as sns\n",
    "sns.set_context(context = 'notebook', font_scale=1.5)\n",
    "import os\n",
    "import sys\n",
    "import cv2\n",
    "\n",
    "base_path = '/home/lundi/Python/MNIST/'\n",
    "sys.path.append(base_path + '/libraries/')\n",
    "\n",
    "import MNIST_data_processor as mdp\n",
    "\n",
    "MNIST_data_processor = mdp.MNIST_data_processor()\n",
    "\n",
    "from matplotlib.patches import Ellipse"
   ]
  },
  {
   "cell_type": "markdown",
   "metadata": {},
   "source": [
    "## 1. Load data"
   ]
  },
  {
   "cell_type": "code",
   "execution_count": 2,
   "metadata": {
    "collapsed": true
   },
   "outputs": [],
   "source": [
    "X, y = MNIST_data_processor.load_subset_data()"
   ]
  },
  {
   "cell_type": "markdown",
   "metadata": {},
   "source": [
    "## 2. Calculate pixels above and below"
   ]
  },
  {
   "cell_type": "code",
   "execution_count": 3,
   "metadata": {
    "collapsed": false
   },
   "outputs": [],
   "source": [
    "def calculate_center_of_number(digit_data):\n",
    "    digit_data_reshape = pd.DataFrame(digit_data.reshape(28,28))\n",
    "    pixel_indexes = digit_data_reshape.max(axis=1).replace(0, np.nan).dropna()\n",
    "    #print pixel_indexes\n",
    "    mid_index = int(1.0 * pixel_indexes.shape[0] / 2.0)\n",
    "    return pixel_indexes.index[mid_index]\n",
    "\n",
    "def get_pixels_above_and_below(digit_data, mid_line):\n",
    "    digit_data_reshape = pd.DataFrame(digit_data.reshape(28,28))\n",
    "    top_region = digit_data_reshape.ix[0:mid_line-1]\n",
    "    bottom_region = digit_data_reshape.ix[mid_line:]\n",
    "    \n",
    "    return top_region.sum().sum(), bottom_region.sum().sum()\n",
    "\n",
    "results = []\n",
    "for index, current_digit_data in X.iterrows():\n",
    "    mid_line = calculate_center_of_number(current_digit_data)\n",
    "    top_pixels, bottom_pixels = get_pixels_above_and_below(current_digit_data, mid_line)\n",
    "    results.append([y[index], top_pixels, bottom_pixels])\n",
    "    \n",
    "results_df = pd.DataFrame(results, columns = ['label', 'top','bottom'])"
   ]
  },
  {
   "cell_type": "markdown",
   "metadata": {},
   "source": [
    "## 3. Export to processed dataset"
   ]
  },
  {
   "cell_type": "code",
   "execution_count": 5,
   "metadata": {
    "collapsed": false
   },
   "outputs": [],
   "source": [
    "results_df.reset_index().rename(columns = {'index': 'datum_index'}).to_csv('./../../data/generated_features/pixels_above_and_below_center.csv', index=False)"
   ]
  },
  {
   "cell_type": "code",
   "execution_count": null,
   "metadata": {
    "collapsed": true
   },
   "outputs": [],
   "source": []
  }
 ],
 "metadata": {
  "kernelspec": {
   "display_name": "Python 2",
   "language": "python",
   "name": "python2"
  },
  "language_info": {
   "codemirror_mode": {
    "name": "ipython",
    "version": 2
   },
   "file_extension": ".py",
   "mimetype": "text/x-python",
   "name": "python",
   "nbconvert_exporter": "python",
   "pygments_lexer": "ipython2",
   "version": "2.7.12"
  }
 },
 "nbformat": 4,
 "nbformat_minor": 1
}
