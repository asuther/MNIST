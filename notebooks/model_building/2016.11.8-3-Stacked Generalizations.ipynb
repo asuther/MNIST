{
 "cells": [
  {
   "cell_type": "markdown",
   "metadata": {},
   "source": [
    "# Stacked Generalizations"
   ]
  },
  {
   "cell_type": "code",
   "execution_count": 1,
   "metadata": {
    "collapsed": true
   },
   "outputs": [],
   "source": [
    "%matplotlib inline\n",
    "import numpy as np\n",
    "import pandas as pd\n",
    "import matplotlib.pyplot as plt\n",
    "import sklearn.svm as skl_svm\n",
    "import sklearn.cross_validation as skl_cv\n",
    "import seaborn as sns\n",
    "import os\n",
    "import sys\n",
    "\n",
    "base_path = '/home/lundi/Python/MNIST/'\n",
    "sys.path.append(base_path + '/libraries/')\n",
    "\n",
    "import time\n",
    "import glob\n",
    "\n",
    "import MNIST_model_functions as mmf\n",
    "MNIST_model_functions = mmf.MNIST_model_functions()\n",
    "\n",
    "import sklearn.linear_model as skl_lm"
   ]
  },
  {
   "cell_type": "code",
   "execution_count": 2,
   "metadata": {
    "collapsed": true
   },
   "outputs": [],
   "source": [
    "prediction_data_v1 = pd.DataFrame()\n",
    "\n",
    "for filename in glob.glob(base_path + '/data/prediction_results/2016.11.7-*_results.csv'):\n",
    "    prediction_data_v1 = pd.concat([prediction_data_v1, pd.read_csv(filename)])\n",
    "prediction_data_v1 = prediction_data_v1.rename(columns = {'Unnamed: 0': 'datum_index'})\n",
    "#prediction_data_v1 = prediction_data_v1.drop(['Unnamed: 0'], axis = 1)"
   ]
  },
  {
   "cell_type": "code",
   "execution_count": 5,
   "metadata": {
    "collapsed": false
   },
   "outputs": [],
   "source": [
    "X = pd.pivot_table(prediction_data_v1, index = 'datum_index', values=['0','1','2','3','4','5','6','7','8','9'], columns=['Model'])\n",
    "X.columns = ['%s%s' % (a, '|%s' % b if b else '') for a, b in X.columns]"
   ]
  },
  {
   "cell_type": "code",
   "execution_count": 33,
   "metadata": {
    "collapsed": false
   },
   "outputs": [],
   "source": [
    "y = prediction_data_v1[['datum_index','Actual']]\n",
    "y = y.drop_duplicates().set_index('datum_index')\n",
    "y['Actual'] = y['Actual'].astype(int)"
   ]
  },
  {
   "cell_type": "markdown",
   "metadata": {},
   "source": [
    "Creating a linear model"
   ]
  },
  {
   "cell_type": "code",
   "execution_count": 44,
   "metadata": {
    "collapsed": false
   },
   "outputs": [
    {
     "data": {
      "text/plain": [
       "0.95122848296585027"
      ]
     },
     "execution_count": 44,
     "metadata": {},
     "output_type": "execute_result"
    }
   ],
   "source": [
    "lr_clf = skl_lm.LogisticRegression()\n",
    "skl_cv.cross_val_score(lr_clf, X = X, y = y['Actual'], cv = 10).mean()"
   ]
  },
  {
   "cell_type": "code",
   "execution_count": null,
   "metadata": {
    "collapsed": true
   },
   "outputs": [],
   "source": []
  }
 ],
 "metadata": {
  "kernelspec": {
   "display_name": "Python 2",
   "language": "python",
   "name": "python2"
  },
  "language_info": {
   "codemirror_mode": {
    "name": "ipython",
    "version": 2
   },
   "file_extension": ".py",
   "mimetype": "text/x-python",
   "name": "python",
   "nbconvert_exporter": "python",
   "pygments_lexer": "ipython2",
   "version": "2.7.12"
  }
 },
 "nbformat": 4,
 "nbformat_minor": 1
}
