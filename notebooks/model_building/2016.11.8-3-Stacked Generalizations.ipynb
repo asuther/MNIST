{
 "cells": [
  {
   "cell_type": "markdown",
   "metadata": {},
   "source": [
    "# Stacked Generalizations"
   ]
  },
  {
   "cell_type": "code",
   "execution_count": 1,
   "metadata": {
    "collapsed": true
   },
   "outputs": [],
   "source": [
    "%matplotlib inline\n",
    "import numpy as np\n",
    "import pandas as pd\n",
    "import matplotlib.pyplot as plt\n",
    "import sklearn.svm as skl_svm\n",
    "import sklearn.cross_validation as skl_cv\n",
    "import seaborn as sns\n",
    "import os\n",
    "import sys\n",
    "\n",
    "base_path = '/home/lundi/Python/MNIST/'\n",
    "sys.path.append(base_path + '/libraries/')\n",
    "\n",
    "import time\n",
    "import glob\n",
    "\n",
    "import MNIST_model_functions as mmf\n",
    "MNIST_model_functions = mmf.MNIST_model_functions()\n",
    "\n",
    "import sklearn.linear_model as skl_lm\n",
    "import sklearn.grid_search as skl_gs"
   ]
  },
  {
   "cell_type": "code",
   "execution_count": 2,
   "metadata": {
    "collapsed": true
   },
   "outputs": [],
   "source": [
    "prediction_data_v1 = pd.DataFrame()\n",
    "\n",
    "for filename in glob.glob(base_path + '/data/prediction_results/2016.11.7-*_results.csv'):\n",
    "    prediction_data_v1 = pd.concat([prediction_data_v1, pd.read_csv(filename)])\n",
    "prediction_data_v1 = prediction_data_v1.rename(columns = {'Unnamed: 0': 'datum_index'})\n",
    "#prediction_data_v1 = prediction_data_v1.drop(['Unnamed: 0'], axis = 1)"
   ]
  },
  {
   "cell_type": "code",
   "execution_count": 3,
   "metadata": {
    "collapsed": false
   },
   "outputs": [],
   "source": [
    "X = pd.pivot_table(prediction_data_v1, index = 'datum_index', values=['0','1','2','3','4','5','6','7','8','9'], columns=['Model'])\n",
    "X.columns = ['%s%s' % (a, '|%s' % b if b else '') for a, b in X.columns]"
   ]
  },
  {
   "cell_type": "code",
   "execution_count": 8,
   "metadata": {
    "collapsed": false
   },
   "outputs": [],
   "source": [
    "y = prediction_data_v1[['datum_index','Actual']]\n",
    "y = y.drop_duplicates().set_index('datum_index')\n",
    "y['Actual'] = y['Actual'].astype(int)\n",
    "y = y['Actual']"
   ]
  },
  {
   "cell_type": "markdown",
   "metadata": {},
   "source": [
    "Creating a linear model"
   ]
  },
  {
   "cell_type": "code",
   "execution_count": 9,
   "metadata": {
    "collapsed": false
   },
   "outputs": [
    {
     "data": {
      "text/plain": [
       "GridSearchCV(cv=5, error_score='raise',\n",
       "       estimator=LogisticRegression(C=1.0, class_weight=None, dual=False, fit_intercept=True,\n",
       "          intercept_scaling=1, max_iter=100, multi_class='ovr', n_jobs=1,\n",
       "          penalty='l2', random_state=None, solver='liblinear', tol=0.0001,\n",
       "          verbose=0, warm_start=False),\n",
       "       fit_params={}, iid=True, n_jobs=1,\n",
       "       param_grid=[{'C': array([  1.00000e-10,   4.89390e-10,   2.39503e-09,   1.17210e-08,\n",
       "         5.73615e-08,   2.80722e-07,   1.37382e-06,   6.72336e-06,\n",
       "         3.29034e-05,   1.61026e-04,   7.88046e-04,   3.85662e-03,\n",
       "         1.88739e-02,   9.23671e-02,   4.52035e-01,   2.21222e+00,\n",
       "         1.082...   3.56225e+06,   1.74333e+07,   8.53168e+07,   4.17532e+08,\n",
       "         2.04336e+09,   1.00000e+10])}],\n",
       "       pre_dispatch='2*n_jobs', refit=True, scoring=None, verbose=0)"
      ]
     },
     "execution_count": 9,
     "metadata": {},
     "output_type": "execute_result"
    }
   ],
   "source": [
    "lr_gs_clf = skl_gs.GridSearchCV(skl_lm.LogisticRegression(), param_grid=[\n",
    "        {'C': np.logspace(-10,10,num=30)}\n",
    "        ], cv = 5)\n",
    "\n",
    "lr_gs_clf.fit(X, y)"
   ]
  },
  {
   "cell_type": "code",
   "execution_count": 10,
   "metadata": {
    "collapsed": false,
    "scrolled": true
   },
   "outputs": [
    {
     "name": "stdout",
     "output_type": "stream",
     "text": [
      "0.941811637672 {'C': 1e-10}\n",
      "0.941811637672 {'C': 4.8939009184774994e-10}\n",
      "0.941811637672 {'C': 2.3950266199874909e-09}\n",
      "0.941811637672 {'C': 1.1721022975334793e-08}\n",
      "0.941811637672 {'C': 5.7361525104486813e-08}\n",
      "0.941611677664 {'C': 2.8072162039411812e-07}\n",
      "0.941611677664 {'C': 1.3738237958832638e-06}\n",
      "0.941611677664 {'C': 6.7233575364993352e-06}\n",
      "0.941811637672 {'C': 3.290344562312671e-05}\n",
      "0.94201159768 {'C': 0.00016102620275609426}\n",
      "0.94301139772 {'C': 0.00078804628156699209}\n",
      "0.943411317736 {'C': 0.0038566204211634724}\n",
      "0.94401119776 {'C': 0.018873918221350997}\n",
      "0.945610877824 {'C': 0.092367085718738848}\n",
      "0.948210357928 {'C': 0.45203536563602403}\n",
      "0.952209558088 {'C': 2.2122162910704501}\n",
      "0.95400919816 {'C': 10.826367338740562}\n",
      "0.955208958208 {'C': 52.983169062837234}\n",
      "0.952809438112 {'C': 259.29437974046778}\n",
      "0.952409518096 {'C': 1268.9610031679233}\n",
      "0.951809638072 {'C': 6210.1694189156287}\n",
      "0.951409718056 {'C': 30391.953823132073}\n",
      "0.951409718056 {'C': 148735.21072935118}\n",
      "0.951209758048 {'C': 727895.38439831615}\n",
      "0.951209758048 {'C': 3562247.8902624515}\n",
      "0.951209758048 {'C': 17433288.221999943}\n",
      "0.951209758048 {'C': 85316785.241728485}\n",
      "0.951209758048 {'C': 417531893.65604258}\n",
      "0.951209758048 {'C': 2043359717.8569396}\n",
      "0.951209758048 {'C': 10000000000.0}\n"
     ]
    }
   ],
   "source": [
    "for params, mean_score, scores in lr_gs_clf.grid_scores_:\n",
    "    print mean_score, params"
   ]
  },
  {
   "cell_type": "code",
   "execution_count": 12,
   "metadata": {
    "collapsed": false
   },
   "outputs": [
    {
     "data": {
      "text/plain": [
       "0.95601063561760447"
      ]
     },
     "execution_count": 12,
     "metadata": {},
     "output_type": "execute_result"
    }
   ],
   "source": [
    "lr_clf = skl_lm.LogisticRegression(C = 50)\n",
    "skl_cv.cross_val_score(lr_clf, X = X, y = y, cv = 10).mean()"
   ]
  },
  {
   "cell_type": "code",
   "execution_count": 13,
   "metadata": {
    "collapsed": true
   },
   "outputs": [],
   "source": [
    "y_stacked_pred_cv = skl_cv.cross_val_predict(lr_clf, X = X, y = y, cv = 10)"
   ]
  },
  {
   "cell_type": "code",
   "execution_count": 15,
   "metadata": {
    "collapsed": false
   },
   "outputs": [],
   "source": [
    "data_to_output = X.copy()\n",
    "data_to_output['Prediction_Stacked'] = y_stacked_pred_cv\n",
    "data_to_output['Actual'] = y"
   ]
  },
  {
   "cell_type": "code",
   "execution_count": 25,
   "metadata": {
    "collapsed": true
   },
   "outputs": [],
   "source": [
    "data_to_output.to_csv('./../../data/prediction_results/2016.11.9-Stacked_Results.csv')"
   ]
  },
  {
   "cell_type": "code",
   "execution_count": 18,
   "metadata": {
    "collapsed": false
   },
   "outputs": [
    {
     "data": {
      "text/plain": [
       "LogisticRegression(C=50, class_weight=None, dual=False, fit_intercept=True,\n",
       "          intercept_scaling=1, max_iter=100, multi_class='ovr', n_jobs=1,\n",
       "          penalty='l2', random_state=None, solver='liblinear', tol=0.0001,\n",
       "          verbose=0, warm_start=False)"
      ]
     },
     "execution_count": 18,
     "metadata": {},
     "output_type": "execute_result"
    }
   ],
   "source": [
    "lr_clf.fit(X, y)"
   ]
  },
  {
   "cell_type": "code",
   "execution_count": null,
   "metadata": {
    "collapsed": true
   },
   "outputs": [],
   "source": []
  }
 ],
 "metadata": {
  "kernelspec": {
   "display_name": "Python 2",
   "language": "python",
   "name": "python2"
  },
  "language_info": {
   "codemirror_mode": {
    "name": "ipython",
    "version": 2
   },
   "file_extension": ".py",
   "mimetype": "text/x-python",
   "name": "python",
   "nbconvert_exporter": "python",
   "pygments_lexer": "ipython2",
   "version": "2.7.12"
  }
 },
 "nbformat": 4,
 "nbformat_minor": 1
}
