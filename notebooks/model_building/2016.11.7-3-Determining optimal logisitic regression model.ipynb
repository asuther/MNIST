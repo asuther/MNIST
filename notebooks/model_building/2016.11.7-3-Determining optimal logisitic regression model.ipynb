{
 "cells": [
  {
   "cell_type": "markdown",
   "metadata": {},
   "source": [
    "# Determining optimal logisitic regression model"
   ]
  },
  {
   "cell_type": "code",
   "execution_count": 2,
   "metadata": {
    "collapsed": true
   },
   "outputs": [],
   "source": [
    "%matplotlib inline\n",
    "import numpy as np\n",
    "import pandas as pd\n",
    "import matplotlib.pyplot as plt\n",
    "import sklearn.svm as skl_svm\n",
    "import sklearn.cross_validation as skl_cv\n",
    "import seaborn as sns\n",
    "import os\n",
    "import sys\n",
    "sys.path.append('./libraries/')\n",
    "\n",
    "import time\n",
    "\n",
    "import sklearn.linear_model as skl_lm\n",
    "import sklearn.grid_search as skl_gs\n",
    "\n",
    "import MNIST_data_processor as mdp\n",
    "\n",
    "MNIST_data_processor = mdp.MNIST_data_processor()"
   ]
  },
  {
   "cell_type": "code",
   "execution_count": 4,
   "metadata": {
    "collapsed": true
   },
   "outputs": [],
   "source": [
    "X, y = MNIST_data_processor.load_subset_data()"
   ]
  },
  {
   "cell_type": "code",
   "execution_count": 9,
   "metadata": {
    "collapsed": false
   },
   "outputs": [
    {
     "name": "stdout",
     "output_type": "stream",
     "text": [
      "Elapsed Time: "
     ]
    },
    {
     "ename": "NameError",
     "evalue": "name 'end_time' is not defined",
     "output_type": "error",
     "traceback": [
      "\u001b[0;31m---------------------------------------------------------------------------\u001b[0m",
      "\u001b[0;31mNameError\u001b[0m                                 Traceback (most recent call last)",
      "\u001b[0;32m<ipython-input-9-1d1e9b4df18e>\u001b[0m in \u001b[0;36m<module>\u001b[0;34m()\u001b[0m\n\u001b[1;32m      9\u001b[0m \u001b[0mlr_gs_clf\u001b[0m\u001b[0;34m.\u001b[0m\u001b[0mfit\u001b[0m\u001b[0;34m(\u001b[0m\u001b[0mX\u001b[0m\u001b[0;34m,\u001b[0m \u001b[0my\u001b[0m\u001b[0;34m)\u001b[0m\u001b[0;34m\u001b[0m\u001b[0m\n\u001b[1;32m     10\u001b[0m \u001b[0;34m\u001b[0m\u001b[0m\n\u001b[0;32m---> 11\u001b[0;31m \u001b[0;32mprint\u001b[0m \u001b[0;34m'Elapsed Time: '\u001b[0m\u001b[0;34m,\u001b[0m \u001b[0;34m(\u001b[0m\u001b[0mend_time\u001b[0m \u001b[0;34m-\u001b[0m \u001b[0mstart_time\u001b[0m\u001b[0;34m)\u001b[0m \u001b[0;34m/\u001b[0m \u001b[0;36m60.0\u001b[0m\u001b[0;34m,\u001b[0m \u001b[0;34m' mins'\u001b[0m\u001b[0;34m\u001b[0m\u001b[0m\n\u001b[0m",
      "\u001b[0;31mNameError\u001b[0m: name 'end_time' is not defined"
     ]
    }
   ],
   "source": [
    "start_time = time.time()\n",
    "\n",
    "param_grid = [\n",
    "    {'penalty': ['l1'], 'C': np.logspace(-5,5,num=10)},\n",
    "    {'penalty': ['l2'], 'C': np.logspace(-5,5,num=10)}\n",
    "]\n",
    "\n",
    "lr_gs_clf = skl_gs.GridSearchCV(estimator=skl_lm.LogisticRegression(), param_grid = param_grid, cv=5, n_jobs=6)\n",
    "lr_gs_clf.fit(X, y)\n",
    "\n",
    "end_time = time.time()\n",
    "\n",
    "print 'Elapsed Time: ', (end_time - start_time) / 60.0, ' mins'"
   ]
  },
  {
   "cell_type": "code",
   "execution_count": 11,
   "metadata": {
    "collapsed": false
   },
   "outputs": [
    {
     "name": "stdout",
     "output_type": "stream",
     "text": [
      " 0.567486502699 {'penalty': 'l1', 'C': 1.0000000000000001e-05}\n",
      "0.832233553289 {'penalty': 'l1', 'C': 0.00012915496650148841}\n",
      "0.890421915617 {'penalty': 'l1', 'C': 0.0016681005372000592}\n",
      "0.868226354729 {'penalty': 'l1', 'C': 0.021544346900318846}\n",
      "0.842031593681 {'penalty': 'l1', 'C': 0.27825594022071259}\n",
      "0.834633073385 {'penalty': 'l1', 'C': 3.5938136638046259}\n",
      "0.832433513297 {'penalty': 'l1', 'C': 46.415888336127821}\n",
      "0.827834433113 {'penalty': 'l1', 'C': 599.48425031894214}\n",
      "0.822635472905 {'penalty': 'l1', 'C': 7742.6368268112774}\n",
      "0.819636072785 {'penalty': 'l1', 'C': 100000.0}\n",
      "0.889822035593 {'penalty': 'l2', 'C': 1.0000000000000001e-05}\n",
      "0.871625674865 {'penalty': 'l2', 'C': 0.00012915496650148841}\n",
      "0.851629674065 {'penalty': 'l2', 'C': 0.0016681005372000592}\n",
      "0.831033793241 {'penalty': 'l2', 'C': 0.021544346900318846}\n",
      "0.810637872426 {'penalty': 'l2', 'C': 0.27825594022071259}\n",
      "0.800439912018 {'penalty': 'l2', 'C': 3.5938136638046259}\n",
      "0.796040791842 {'penalty': 'l2', 'C': 46.415888336127821}\n",
      "0.794641071786 {'penalty': 'l2', 'C': 599.48425031894214}\n",
      "0.795440911818 {'penalty': 'l2', 'C': 7742.6368268112774}\n",
      "0.796040791842 {'penalty': 'l2', 'C': 100000.0}\n"
     ]
    }
   ],
   "source": [
    "for params, mean_score, scores in lr_gs_clf.grid_scores_:\n",
    "    print mean_score, params"
   ]
  },
  {
   "cell_type": "code",
   "execution_count": null,
   "metadata": {
    "collapsed": true
   },
   "outputs": [],
   "source": [
    "%%javascript\n",
    "alert('done')"
   ]
  },
  {
   "cell_type": "code",
   "execution_count": 15,
   "metadata": {
    "collapsed": false
   },
   "outputs": [
    {
     "name": "stdout",
     "output_type": "stream",
     "text": [
      "Elapsed Time:  1.51665490071  mins\n"
     ]
    }
   ],
   "source": [
    "start_time = time.time()\n",
    "\n",
    "param_grid = [\n",
    "    {'penalty': ['l2'], 'C': np.logspace(-8,-5,num=15)}\n",
    "]\n",
    "\n",
    "lr_gs_clf = skl_gs.GridSearchCV(estimator=skl_lm.LogisticRegression(), param_grid = param_grid, cv=5, n_jobs=6)\n",
    "lr_gs_clf.fit(X, y)\n",
    "\n",
    "end_time = time.time()\n",
    "\n",
    "print 'Elapsed Time: ', (end_time - start_time) / 60.0, ' mins'"
   ]
  },
  {
   "cell_type": "code",
   "execution_count": 16,
   "metadata": {
    "collapsed": false
   },
   "outputs": [
    {
     "name": "stdout",
     "output_type": "stream",
     "text": [
      "0.820235952809 {'penalty': 'l2', 'C': 1e-08}\n",
      "0.833033393321 {'penalty': 'l2', 'C': 1.6378937069540648e-08}\n",
      "0.844231153769 {'penalty': 'l2', 'C': 2.6826957952797272e-08}\n",
      "0.856028794241 {'penalty': 'l2', 'C': 4.3939705607607859e-08}\n",
      "0.865226954609 {'penalty': 'l2', 'C': 7.1968567300115134e-08}\n",
      "0.873025394921 {'penalty': 'l2', 'C': 1.1787686347935867e-07}\n",
      "0.880023995201 {'penalty': 'l2', 'C': 1.9306977288832497e-07}\n",
      "0.886022795441 {'penalty': 'l2', 'C': 3.1622776601683792e-07}\n",
      "0.889822035593 {'penalty': 'l2', 'C': 5.1794746792312125e-07}\n",
      "0.892021595681 {'penalty': 'l2', 'C': 8.4834289824407261e-07}\n",
      "0.893021395721 {'penalty': 'l2', 'C': 1.389495494373136e-06}\n",
      "0.891621675665 {'penalty': 'l2', 'C': 2.2758459260747911e-06}\n",
      "0.891421715657 {'penalty': 'l2', 'C': 3.7275937203149381e-06}\n",
      "0.892421515697 {'penalty': 'l2', 'C': 6.1054022965853268e-06}\n",
      "0.889822035593 {'penalty': 'l2', 'C': 1.0000000000000001e-05}\n"
     ]
    }
   ],
   "source": [
    "for params, mean_score, scores in lr_gs_clf.grid_scores_:\n",
    "    print mean_score, params"
   ]
  },
  {
   "cell_type": "code",
   "execution_count": 17,
   "metadata": {
    "collapsed": false
   },
   "outputs": [
    {
     "data": {
      "application/javascript": [
       "alert('done')"
      ],
      "text/plain": [
       "<IPython.core.display.Javascript object>"
      ]
     },
     "metadata": {},
     "output_type": "display_data"
    }
   ],
   "source": [
    "%%javascript\n",
    "alert('done')"
   ]
  },
  {
   "cell_type": "code",
   "execution_count": null,
   "metadata": {
    "collapsed": true
   },
   "outputs": [],
   "source": []
  }
 ],
 "metadata": {
  "kernelspec": {
   "display_name": "Python 2",
   "language": "python",
   "name": "python2"
  },
  "language_info": {
   "codemirror_mode": {
    "name": "ipython",
    "version": 2
   },
   "file_extension": ".py",
   "mimetype": "text/x-python",
   "name": "python",
   "nbconvert_exporter": "python",
   "pygments_lexer": "ipython2",
   "version": "2.7.12"
  }
 },
 "nbformat": 4,
 "nbformat_minor": 1
}
