{
 "cells": [
  {
   "cell_type": "markdown",
   "metadata": {},
   "source": [
    "# Classifying using ellipse features\n",
    "\n",
    "**Methods:**\n",
    ">1. Load intermediate data\n",
    ">2. Concat new features\n",
    ">3. Use gridsearchcv to find best hyperparameters for RF\n",
    ">4. Use cross-val-score on RF"
   ]
  },
  {
   "cell_type": "code",
   "execution_count": 20,
   "metadata": {
    "collapsed": true
   },
   "outputs": [],
   "source": [
    "%matplotlib inline\n",
    "import numpy as np\n",
    "import pandas as pd\n",
    "import matplotlib.pyplot as plt\n",
    "import sklearn.svm as skl_svm\n",
    "import sklearn.cross_validation as skl_cv\n",
    "import seaborn as sns\n",
    "import os\n",
    "import sys\n",
    "\n",
    "base_path = '/home/lundi/Python/MNIST/'\n",
    "sys.path.append(base_path + '/libraries/')\n",
    "\n",
    "import time\n",
    "\n",
    "import sklearn.linear_model as skl_lm\n",
    "import sklearn.ensemble as skl_ensemble\n",
    "import sklearn.grid_search as skl_gs\n",
    "\n",
    "import MNIST_data_processor as mdp\n",
    "import MNIST_model_functions as mmf\n",
    "\n",
    "MNIST_data_processor = mdp.MNIST_data_processor()\n",
    "MNIST_model_functions = mmf.MNIST_model_functions()\n",
    "\n",
    "import glob"
   ]
  },
  {
   "cell_type": "markdown",
   "metadata": {},
   "source": [
    "## 1. Load intermediate data"
   ]
  },
  {
   "cell_type": "code",
   "execution_count": 59,
   "metadata": {
    "collapsed": true
   },
   "outputs": [],
   "source": [
    "data = pd.read_csv('./../../data/intermediate/train_with_ellipse_count.csv')\n",
    "\n",
    "X = data.drop(['label'], axis=1)['ellipse_count'].reset_index().rename(columns={'index': 'datum_index'})\n",
    "y = data['label']"
   ]
  },
  {
   "cell_type": "markdown",
   "metadata": {},
   "source": [
    "## 2. Concat new features"
   ]
  },
  {
   "cell_type": "code",
   "execution_count": 60,
   "metadata": {
    "collapsed": false
   },
   "outputs": [],
   "source": [
    "for filename in glob.glob('./../../data/generated_features/*'):\n",
    "    new_features = pd.read_csv(filename)\n",
    "\n",
    "    X = pd.merge(X, new_features, on = ['datum_index'])\n",
    "X = X.drop(['label', 'datum_index'], axis=1)"
   ]
  },
  {
   "cell_type": "markdown",
   "metadata": {},
   "source": [
    "## 3. Use gridsearchcv to find best hyperparameters for RF"
   ]
  },
  {
   "cell_type": "code",
   "execution_count": 62,
   "metadata": {
    "collapsed": false
   },
   "outputs": [
    {
     "name": "stdout",
     "output_type": "stream",
     "text": [
      "Elapsed Time:  0.708839865526  mins\n"
     ]
    }
   ],
   "source": [
    "start_time = time.time()\n",
    "\n",
    "param_grid = [\n",
    "    {'n_estimators': [100,1000], 'criterion': ['entropy'], 'max_depth': [2,6,9,15]}\n",
    "]\n",
    "\n",
    "rf_gs_clf = skl_gs.GridSearchCV(estimator=skl_ensemble.RandomForestClassifier(verbose=False), \n",
    "                                param_grid = param_grid, cv=5, n_jobs=6)\n",
    "rf_gs_clf.fit(X, y)\n",
    "\n",
    "end_time = time.time()\n",
    "\n",
    "print 'Elapsed Time: ', (end_time - start_time) / 60.0, ' mins'"
   ]
  },
  {
   "cell_type": "code",
   "execution_count": 63,
   "metadata": {
    "collapsed": false
   },
   "outputs": [
    {
     "name": "stdout",
     "output_type": "stream",
     "text": [
      "0.55048990202 {'n_estimators': 100, 'criterion': 'entropy', 'max_depth': 2}\n",
      "0.553689262148 {'n_estimators': 1000, 'criterion': 'entropy', 'max_depth': 2}\n",
      "0.621875624875 {'n_estimators': 100, 'criterion': 'entropy', 'max_depth': 6}\n",
      "0.620675864827 {'n_estimators': 1000, 'criterion': 'entropy', 'max_depth': 6}\n",
      "0.634873025395 {'n_estimators': 100, 'criterion': 'entropy', 'max_depth': 9}\n",
      "0.635672865427 {'n_estimators': 1000, 'criterion': 'entropy', 'max_depth': 9}\n",
      "0.615676864627 {'n_estimators': 100, 'criterion': 'entropy', 'max_depth': 15}\n",
      "0.617676464707 {'n_estimators': 1000, 'criterion': 'entropy', 'max_depth': 15}\n"
     ]
    }
   ],
   "source": [
    "for params, mean_score, scores in rf_gs_clf.grid_scores_:\n",
    "    print mean_score, params"
   ]
  },
  {
   "cell_type": "markdown",
   "metadata": {},
   "source": [
    "## 4. Use cross-val-score on RF"
   ]
  },
  {
   "cell_type": "code",
   "execution_count": 64,
   "metadata": {
    "collapsed": false,
    "scrolled": true
   },
   "outputs": [
    {
     "data": {
      "text/plain": [
       "label  pred\n",
       "0      0       0.829960\n",
       "       2       0.058704\n",
       "       3       0.046559\n",
       "       8       0.026316\n",
       "       4       0.020243\n",
       "       5       0.012146\n",
       "       9       0.004049\n",
       "       6       0.002024\n",
       "1      1       0.899642\n",
       "       4       0.037634\n",
       "       5       0.025090\n",
       "       3       0.021505\n",
       "       7       0.007168\n",
       "       9       0.005376\n",
       "       2       0.001792\n",
       "       6       0.001792\n",
       "2      2       0.451376\n",
       "       6       0.233028\n",
       "       4       0.097248\n",
       "       3       0.075229\n",
       "       5       0.075229\n",
       "       0       0.029358\n",
       "       8       0.025688\n",
       "       1       0.009174\n",
       "       7       0.001835\n",
       "       9       0.001835\n",
       "3      3       0.397917\n",
       "       5       0.231250\n",
       "       4       0.120833\n",
       "       7       0.081250\n",
       "                 ...   \n",
       "6      5       0.007752\n",
       "       4       0.005814\n",
       "       0       0.003876\n",
       "       1       0.003876\n",
       "       3       0.001938\n",
       "7      7       0.689723\n",
       "       4       0.084980\n",
       "       3       0.075099\n",
       "       5       0.069170\n",
       "       9       0.059289\n",
       "       1       0.017787\n",
       "       2       0.003953\n",
       "8      8       0.857741\n",
       "       9       0.031381\n",
       "       2       0.029289\n",
       "       5       0.027197\n",
       "       4       0.023013\n",
       "       3       0.018828\n",
       "       0       0.006276\n",
       "       6       0.004184\n",
       "       7       0.002092\n",
       "9      9       0.769874\n",
       "       7       0.140167\n",
       "       4       0.031381\n",
       "       5       0.018828\n",
       "       3       0.014644\n",
       "       0       0.010460\n",
       "       8       0.008368\n",
       "       1       0.004184\n",
       "       2       0.002092\n",
       "Name: pred, dtype: float64"
      ]
     },
     "execution_count": 64,
     "metadata": {},
     "output_type": "execute_result"
    }
   ],
   "source": [
    "y_pred = skl_cv.cross_val_predict(skl_ensemble.RandomForestClassifier(n_estimators=5000, max_depth=30, criterion='entropy'),\n",
    "                                      X = X, y = y, cv = 5)\n",
    "\n",
    "prediction_data = pd.concat([pd.Series(y_pred), y], axis=1).rename(columns = {0: 'pred'})\n",
    "prediction_data.groupby(['label'])['pred'].value_counts() / prediction_data.groupby(['label'])['pred'].count()"
   ]
  },
  {
   "cell_type": "code",
   "execution_count": 66,
   "metadata": {
    "collapsed": false
   },
   "outputs": [
    {
     "data": {
      "text/html": [
       "<div>\n",
       "<table border=\"1\" class=\"dataframe\">\n",
       "  <thead>\n",
       "    <tr style=\"text-align: right;\">\n",
       "      <th>label</th>\n",
       "      <th>0</th>\n",
       "      <th>1</th>\n",
       "      <th>2</th>\n",
       "      <th>3</th>\n",
       "      <th>4</th>\n",
       "      <th>5</th>\n",
       "      <th>6</th>\n",
       "      <th>7</th>\n",
       "      <th>8</th>\n",
       "      <th>9</th>\n",
       "    </tr>\n",
       "    <tr>\n",
       "      <th>pred</th>\n",
       "      <th></th>\n",
       "      <th></th>\n",
       "      <th></th>\n",
       "      <th></th>\n",
       "      <th></th>\n",
       "      <th></th>\n",
       "      <th></th>\n",
       "      <th></th>\n",
       "      <th></th>\n",
       "      <th></th>\n",
       "    </tr>\n",
       "  </thead>\n",
       "  <tbody>\n",
       "    <tr>\n",
       "      <th>0</th>\n",
       "      <td>0.830</td>\n",
       "      <td>0.000</td>\n",
       "      <td>0.029</td>\n",
       "      <td>0.025</td>\n",
       "      <td>0.027</td>\n",
       "      <td>0.011</td>\n",
       "      <td>0.004</td>\n",
       "      <td>0.000</td>\n",
       "      <td>0.006</td>\n",
       "      <td>0.010</td>\n",
       "    </tr>\n",
       "    <tr>\n",
       "      <th>1</th>\n",
       "      <td>0.000</td>\n",
       "      <td>0.900</td>\n",
       "      <td>0.009</td>\n",
       "      <td>0.021</td>\n",
       "      <td>0.073</td>\n",
       "      <td>0.030</td>\n",
       "      <td>0.004</td>\n",
       "      <td>0.018</td>\n",
       "      <td>0.000</td>\n",
       "      <td>0.004</td>\n",
       "    </tr>\n",
       "    <tr>\n",
       "      <th>2</th>\n",
       "      <td>0.059</td>\n",
       "      <td>0.002</td>\n",
       "      <td>0.451</td>\n",
       "      <td>0.079</td>\n",
       "      <td>0.126</td>\n",
       "      <td>0.102</td>\n",
       "      <td>0.205</td>\n",
       "      <td>0.004</td>\n",
       "      <td>0.029</td>\n",
       "      <td>0.002</td>\n",
       "    </tr>\n",
       "    <tr>\n",
       "      <th>3</th>\n",
       "      <td>0.047</td>\n",
       "      <td>0.022</td>\n",
       "      <td>0.075</td>\n",
       "      <td>0.398</td>\n",
       "      <td>0.149</td>\n",
       "      <td>0.292</td>\n",
       "      <td>0.002</td>\n",
       "      <td>0.075</td>\n",
       "      <td>0.019</td>\n",
       "      <td>0.015</td>\n",
       "    </tr>\n",
       "    <tr>\n",
       "      <th>4</th>\n",
       "      <td>0.020</td>\n",
       "      <td>0.038</td>\n",
       "      <td>0.097</td>\n",
       "      <td>0.121</td>\n",
       "      <td>0.212</td>\n",
       "      <td>0.164</td>\n",
       "      <td>0.006</td>\n",
       "      <td>0.085</td>\n",
       "      <td>0.023</td>\n",
       "      <td>0.031</td>\n",
       "    </tr>\n",
       "    <tr>\n",
       "      <th>5</th>\n",
       "      <td>0.012</td>\n",
       "      <td>0.025</td>\n",
       "      <td>0.075</td>\n",
       "      <td>0.231</td>\n",
       "      <td>0.151</td>\n",
       "      <td>0.203</td>\n",
       "      <td>0.008</td>\n",
       "      <td>0.069</td>\n",
       "      <td>0.027</td>\n",
       "      <td>0.019</td>\n",
       "    </tr>\n",
       "    <tr>\n",
       "      <th>6</th>\n",
       "      <td>0.002</td>\n",
       "      <td>0.002</td>\n",
       "      <td>0.233</td>\n",
       "      <td>0.002</td>\n",
       "      <td>0.017</td>\n",
       "      <td>0.009</td>\n",
       "      <td>0.758</td>\n",
       "      <td>0.000</td>\n",
       "      <td>0.004</td>\n",
       "      <td>0.000</td>\n",
       "    </tr>\n",
       "    <tr>\n",
       "      <th>7</th>\n",
       "      <td>0.000</td>\n",
       "      <td>0.007</td>\n",
       "      <td>0.002</td>\n",
       "      <td>0.081</td>\n",
       "      <td>0.191</td>\n",
       "      <td>0.119</td>\n",
       "      <td>0.000</td>\n",
       "      <td>0.690</td>\n",
       "      <td>0.002</td>\n",
       "      <td>0.140</td>\n",
       "    </tr>\n",
       "    <tr>\n",
       "      <th>8</th>\n",
       "      <td>0.026</td>\n",
       "      <td>0.000</td>\n",
       "      <td>0.026</td>\n",
       "      <td>0.025</td>\n",
       "      <td>0.021</td>\n",
       "      <td>0.034</td>\n",
       "      <td>0.014</td>\n",
       "      <td>0.000</td>\n",
       "      <td>0.858</td>\n",
       "      <td>0.008</td>\n",
       "    </tr>\n",
       "    <tr>\n",
       "      <th>9</th>\n",
       "      <td>0.004</td>\n",
       "      <td>0.005</td>\n",
       "      <td>0.002</td>\n",
       "      <td>0.017</td>\n",
       "      <td>0.034</td>\n",
       "      <td>0.036</td>\n",
       "      <td>0.000</td>\n",
       "      <td>0.059</td>\n",
       "      <td>0.031</td>\n",
       "      <td>0.770</td>\n",
       "    </tr>\n",
       "  </tbody>\n",
       "</table>\n",
       "</div>"
      ],
      "text/plain": [
       "label      0      1      2      3      4      5      6      7      8      9\n",
       "pred                                                                       \n",
       "0      0.830  0.000  0.029  0.025  0.027  0.011  0.004  0.000  0.006  0.010\n",
       "1      0.000  0.900  0.009  0.021  0.073  0.030  0.004  0.018  0.000  0.004\n",
       "2      0.059  0.002  0.451  0.079  0.126  0.102  0.205  0.004  0.029  0.002\n",
       "3      0.047  0.022  0.075  0.398  0.149  0.292  0.002  0.075  0.019  0.015\n",
       "4      0.020  0.038  0.097  0.121  0.212  0.164  0.006  0.085  0.023  0.031\n",
       "5      0.012  0.025  0.075  0.231  0.151  0.203  0.008  0.069  0.027  0.019\n",
       "6      0.002  0.002  0.233  0.002  0.017  0.009  0.758  0.000  0.004  0.000\n",
       "7      0.000  0.007  0.002  0.081  0.191  0.119  0.000  0.690  0.002  0.140\n",
       "8      0.026  0.000  0.026  0.025  0.021  0.034  0.014  0.000  0.858  0.008\n",
       "9      0.004  0.005  0.002  0.017  0.034  0.036  0.000  0.059  0.031  0.770"
      ]
     },
     "execution_count": 66,
     "metadata": {},
     "output_type": "execute_result"
    }
   ],
   "source": [
    "(prediction_data.groupby(['label'])['pred'].value_counts() \\\n",
    "                 / prediction_data.groupby(['label'])['pred'].count()) \\\n",
    "                        .unstack().fillna(0).round(3).transpose()"
   ]
  },
  {
   "cell_type": "code",
   "execution_count": 73,
   "metadata": {
    "collapsed": false
   },
   "outputs": [
    {
     "name": "stdout",
     "output_type": "stream",
     "text": [
      "             precision    recall  f1-score   support\n",
      "\n",
      "          0       0.88      0.83      0.85       494\n",
      "          1       0.87      0.90      0.88       558\n",
      "          2       0.45      0.45      0.45       545\n",
      "          3       0.36      0.40      0.38       480\n",
      "          4       0.26      0.21      0.23       477\n",
      "          5       0.24      0.20      0.22       469\n",
      "          6       0.73      0.76      0.74       516\n",
      "          7       0.57      0.69      0.63       506\n",
      "          8       0.84      0.86      0.85       478\n",
      "          9       0.80      0.77      0.78       478\n",
      "\n",
      "avg / total       0.60      0.61      0.61      5001\n",
      "\n"
     ]
    }
   ],
   "source": [
    "import sklearn.metrics as skl_metrics\n",
    "\n",
    "print skl_metrics.classification_report(y_true = prediction_data['label'], y_pred = prediction_data['pred'])"
   ]
  },
  {
   "cell_type": "markdown",
   "metadata": {},
   "source": [
    "So 0s, 1s, 8s, and 9s are pretty good. 3,4,5,6, and 7 are still problematic"
   ]
  },
  {
   "cell_type": "markdown",
   "metadata": {},
   "source": [
    "## Generating prediction probabilities"
   ]
  },
  {
   "cell_type": "code",
   "execution_count": 67,
   "metadata": {
    "collapsed": false
   },
   "outputs": [
    {
     "name": "stdout",
     "output_type": "stream",
     "text": [
      "Elapsed Time:  4.14005558491  mins\n"
     ]
    }
   ],
   "source": [
    "rf_clf = skl_ensemble.RandomForestClassifier(n_estimators=5000, max_depth=30, criterion='entropy')\n",
    "start_time = time.time()\n",
    "\n",
    "sf_results = MNIST_model_functions.cross_val_predict_proba(\n",
    "                        estimator = rf_clf, \n",
    "                        X = X, y = y, \n",
    "                        cv=5, \n",
    "                        model_name = 'RF_ellipses'\n",
    "                    )\n",
    "sf_results.to_csv(base_path + '/data/prediction_results/2016.11.7-rf_ellipse_results_v2.csv')\n",
    "end_time = time.time()\n",
    "\n",
    "print 'Elapsed Time: ', (end_time - start_time) / 60.0, ' mins'"
   ]
  }
 ],
 "metadata": {
  "kernelspec": {
   "display_name": "Python 2",
   "language": "python",
   "name": "python2"
  },
  "language_info": {
   "codemirror_mode": {
    "name": "ipython",
    "version": 2
   },
   "file_extension": ".py",
   "mimetype": "text/x-python",
   "name": "python",
   "nbconvert_exporter": "python",
   "pygments_lexer": "ipython2",
   "version": "2.7.12"
  }
 },
 "nbformat": 4,
 "nbformat_minor": 1
}
