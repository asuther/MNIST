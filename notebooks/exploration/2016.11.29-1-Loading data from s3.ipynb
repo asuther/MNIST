{
 "cells": [
  {
   "cell_type": "markdown",
   "metadata": {},
   "source": [
    "# Loading data from s3"
   ]
  },
  {
   "cell_type": "code",
   "execution_count": 1,
   "metadata": {
    "collapsed": false
   },
   "outputs": [],
   "source": [
    "import pandas as pd\n",
    "import boto\n",
    "import sys, os\n",
    "sys.path.append('./../../src/')\n",
    "\n",
    "import user_credentials"
   ]
  },
  {
   "cell_type": "code",
   "execution_count": 2,
   "metadata": {
    "collapsed": false
   },
   "outputs": [
    {
     "name": "stdout",
     "output_type": "stream",
     "text": [
      "<Key: asutherkaggledata,test.csv>\n",
      "test.csv\n",
      "<Key: asutherkaggledata,train.csv>\n",
      "train.csv\n"
     ]
    }
   ],
   "source": [
    "from boto.s3.key import Key\n",
    "\n",
    "LOCAL_PATH = './../../../'\n",
    "AWS_ACCESS_KEY_ID = user_credentials.AWS_ACCESS_KEY_ID\n",
    "AWS_SECRET_ACCESS_KEY = user_credentials.AWS_SECRET_ACCESS_KEY\n",
    "bucket_name = user_credentials.bucket_name\n",
    "\n",
    "# connect to the bucket\n",
    "conn = boto.connect_s3(AWS_ACCESS_KEY_ID,\n",
    "                        AWS_SECRET_ACCESS_KEY)\n",
    "bucket = conn.get_bucket(bucket_name)\n",
    "# go through the list of files\n",
    "bucket_list = bucket.list()\n",
    "for l in bucket_list:\n",
    "    print l\n",
    "    keyString = str(l.key)\n",
    "    print keyString\n",
    "    # check if file exists locally, if not: download it\n",
    "    if not os.path.exists(LOCAL_PATH+keyString):\n",
    "        l.get_contents_to_filename(LOCAL_PATH+keyString)"
   ]
  },
  {
   "cell_type": "code",
   "execution_count": null,
   "metadata": {
    "collapsed": true
   },
   "outputs": [],
   "source": []
  }
 ],
 "metadata": {
  "kernelspec": {
   "display_name": "Python 2",
   "language": "python",
   "name": "python2"
  },
  "language_info": {
   "codemirror_mode": {
    "name": "ipython",
    "version": 2
   },
   "file_extension": ".py",
   "mimetype": "text/x-python",
   "name": "python",
   "nbconvert_exporter": "python",
   "pygments_lexer": "ipython2",
   "version": "2.7.12"
  }
 },
 "nbformat": 4,
 "nbformat_minor": 1
}
