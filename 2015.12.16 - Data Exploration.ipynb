{
 "cells": [
  {
   "cell_type": "markdown",
   "metadata": {},
   "source": [
    "# Data Exploration"
   ]
  },
  {
   "cell_type": "code",
   "execution_count": 1,
   "metadata": {
    "collapsed": true
   },
   "outputs": [],
   "source": [
    "import os\n",
    "os.chdir('C:\\Users\\Lundi\\Documents\\Programming\\Python\\Kaggle\\Digits')\n",
    "#os.chdir('/Users/alexsutherland/Documents/Programming/Python/Kaggle/Digits')\n",
    "import time\n",
    "\n",
    "import numpy as np\n",
    "import pandas as pd\n",
    "\n",
    "%matplotlib inline\n",
    "import matplotlib.pyplot as plt\n",
    "import seaborn as sns\n",
    "\n",
    "import sklearn.svm as skl_svm\n",
    "import sklearn.cross_validation as skl_cv\n",
    "from sklearn.grid_search import GridSearchCV\n",
    "\n",
    "digit_data = pd.read_csv('Data/train.csv')\n",
    "\n",
    "X = digit_data.ix[:,1:digit_data.shape[1]]\n",
    "y = digit_data['label']\n",
    "\n",
    "X_subset = X.ix[0:10000,:]\n",
    "y_subset = y.ix[0:10000]"
   ]
  },
  {
   "cell_type": "code",
   "execution_count": 7,
   "metadata": {
    "collapsed": false
   },
   "outputs": [],
   "source": [
    "digit_data.ix[digit_data['label'].isin([3,8]),:].groupby(['label']).describe().to_csv('pixelDescribed_3_8_output.csv')"
   ]
  },
  {
   "cell_type": "code",
   "execution_count": null,
   "metadata": {
    "collapsed": true
   },
   "outputs": [],
   "source": []
  }
 ],
 "metadata": {
  "kernelspec": {
   "display_name": "Python 2",
   "language": "python",
   "name": "python2"
  },
  "language_info": {
   "codemirror_mode": {
    "name": "ipython",
    "version": 2
   },
   "file_extension": ".py",
   "mimetype": "text/x-python",
   "name": "python",
   "nbconvert_exporter": "python",
   "pygments_lexer": "ipython2",
   "version": "2.7.10"
  }
 },
 "nbformat": 4,
 "nbformat_minor": 0
}
