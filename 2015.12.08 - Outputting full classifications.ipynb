{
 "cells": [
  {
   "cell_type": "markdown",
   "metadata": {},
   "source": [
    "# Investigating Misclassifications (cont...)"
   ]
  },
  {
   "cell_type": "code",
   "execution_count": 1,
   "metadata": {
    "collapsed": true
   },
   "outputs": [],
   "source": [
    "import os\n",
    "os.chdir('C:\\Users\\Lundi\\Documents\\Programming\\Python\\Kaggle\\Digits')\n",
    "#os.chdir('/Users/alexsutherland/Documents/Programming/Python/Kaggle/Digits')\n",
    "import time\n",
    "\n",
    "import numpy as np\n",
    "import pandas as pd\n",
    "\n",
    "%matplotlib inline\n",
    "import matplotlib.pyplot as plt\n",
    "import seaborn as sns\n",
    "\n",
    "import sklearn.svm as skl_svm\n",
    "import sklearn.cross_validation as skl_cv\n",
    "from sklearn.grid_search import GridSearchCV"
   ]
  },
  {
   "cell_type": "markdown",
   "metadata": {},
   "source": [
    "## Classification probabilites\n",
    "\n",
    "First, I need to load the data:"
   ]
  },
  {
   "cell_type": "code",
   "execution_count": 2,
   "metadata": {
    "collapsed": true
   },
   "outputs": [],
   "source": [
    "digit_data = pd.read_csv('Data/train.csv')\n",
    "\n",
    "X = digit_data.ix[:,1:digit_data.shape[1]]\n",
    "y = digit_data['label']"
   ]
  },
  {
   "cell_type": "markdown",
   "metadata": {},
   "source": [
    "Next, I will generate a prediction for each element in a subset of the full data. Furthermore, I need the prediction probabilities for these same samples. Therefore, I will run a custom cross-validation to get both of these:"
   ]
  },
  {
   "cell_type": "code",
   "execution_count": 4,
   "metadata": {
    "collapsed": false
   },
   "outputs": [
    {
     "data": {
      "text/html": [
       "<div>\n",
       "<table border=\"1\" class=\"dataframe\">\n",
       "  <thead>\n",
       "    <tr style=\"text-align: right;\">\n",
       "      <th></th>\n",
       "      <th>Actual</th>\n",
       "      <th>Predicted</th>\n",
       "      <th>0</th>\n",
       "      <th>1</th>\n",
       "      <th>2</th>\n",
       "      <th>3</th>\n",
       "      <th>4</th>\n",
       "      <th>5</th>\n",
       "      <th>6</th>\n",
       "      <th>7</th>\n",
       "      <th>8</th>\n",
       "      <th>9</th>\n",
       "    </tr>\n",
       "  </thead>\n",
       "  <tbody>\n",
       "    <tr>\n",
       "      <th>0</th>\n",
       "      <td>1</td>\n",
       "      <td>-1</td>\n",
       "      <td>NaN</td>\n",
       "      <td>NaN</td>\n",
       "      <td>NaN</td>\n",
       "      <td>NaN</td>\n",
       "      <td>NaN</td>\n",
       "      <td>NaN</td>\n",
       "      <td>NaN</td>\n",
       "      <td>NaN</td>\n",
       "      <td>NaN</td>\n",
       "      <td>NaN</td>\n",
       "    </tr>\n",
       "    <tr>\n",
       "      <th>1</th>\n",
       "      <td>0</td>\n",
       "      <td>-1</td>\n",
       "      <td>NaN</td>\n",
       "      <td>NaN</td>\n",
       "      <td>NaN</td>\n",
       "      <td>NaN</td>\n",
       "      <td>NaN</td>\n",
       "      <td>NaN</td>\n",
       "      <td>NaN</td>\n",
       "      <td>NaN</td>\n",
       "      <td>NaN</td>\n",
       "      <td>NaN</td>\n",
       "    </tr>\n",
       "    <tr>\n",
       "      <th>2</th>\n",
       "      <td>1</td>\n",
       "      <td>-1</td>\n",
       "      <td>NaN</td>\n",
       "      <td>NaN</td>\n",
       "      <td>NaN</td>\n",
       "      <td>NaN</td>\n",
       "      <td>NaN</td>\n",
       "      <td>NaN</td>\n",
       "      <td>NaN</td>\n",
       "      <td>NaN</td>\n",
       "      <td>NaN</td>\n",
       "      <td>NaN</td>\n",
       "    </tr>\n",
       "    <tr>\n",
       "      <th>3</th>\n",
       "      <td>4</td>\n",
       "      <td>-1</td>\n",
       "      <td>NaN</td>\n",
       "      <td>NaN</td>\n",
       "      <td>NaN</td>\n",
       "      <td>NaN</td>\n",
       "      <td>NaN</td>\n",
       "      <td>NaN</td>\n",
       "      <td>NaN</td>\n",
       "      <td>NaN</td>\n",
       "      <td>NaN</td>\n",
       "      <td>NaN</td>\n",
       "    </tr>\n",
       "    <tr>\n",
       "      <th>4</th>\n",
       "      <td>0</td>\n",
       "      <td>-1</td>\n",
       "      <td>NaN</td>\n",
       "      <td>NaN</td>\n",
       "      <td>NaN</td>\n",
       "      <td>NaN</td>\n",
       "      <td>NaN</td>\n",
       "      <td>NaN</td>\n",
       "      <td>NaN</td>\n",
       "      <td>NaN</td>\n",
       "      <td>NaN</td>\n",
       "      <td>NaN</td>\n",
       "    </tr>\n",
       "  </tbody>\n",
       "</table>\n",
       "</div>"
      ],
      "text/plain": [
       "   Actual  Predicted    0    1    2    3    4    5    6    7    8    9\n",
       "0       1         -1  NaN  NaN  NaN  NaN  NaN  NaN  NaN  NaN  NaN  NaN\n",
       "1       0         -1  NaN  NaN  NaN  NaN  NaN  NaN  NaN  NaN  NaN  NaN\n",
       "2       1         -1  NaN  NaN  NaN  NaN  NaN  NaN  NaN  NaN  NaN  NaN\n",
       "3       4         -1  NaN  NaN  NaN  NaN  NaN  NaN  NaN  NaN  NaN  NaN\n",
       "4       0         -1  NaN  NaN  NaN  NaN  NaN  NaN  NaN  NaN  NaN  NaN"
      ]
     },
     "execution_count": 4,
     "metadata": {},
     "output_type": "execute_result"
    }
   ],
   "source": [
    "col_names = ['Actual','Predicted']\n",
    "col_names.extend(map(lambda x: str(x), xrange(10)))\n",
    "\n",
    "y_result_df = pd.DataFrame({'Actual': y.copy(), 'Predicted': -1}, columns=col_names)\n",
    "y_result_df.head()"
   ]
  },
  {
   "cell_type": "code",
   "execution_count": 5,
   "metadata": {
    "collapsed": false
   },
   "outputs": [
    {
     "name": "stdout",
     "output_type": "stream",
     "text": [
      "Elapsed time:  0.743495277762 hours\n"
     ]
    }
   ],
   "source": [
    "start_time = time.time()\n",
    "svc_poly_clf = skl_svm.SVC(\n",
    "    C=2.8e-5, \n",
    "    degree=2, \n",
    "    gamma='auto', \n",
    "    kernel='poly', \n",
    "    tol=0.001,\n",
    "    probability=True\n",
    ")\n",
    "\n",
    "for train_indexes, test_indexes in skl_cv.KFold(n = X.shape[0], n_folds=5):\n",
    "    X_train = X.ix[train_indexes, :]\n",
    "    X_test = X.ix[test_indexes, :]\n",
    "    y_train = y.ix[train_indexes]\n",
    "    y_test = y.ix[test_indexes]\n",
    "    \n",
    "    svc_poly_clf.fit(X_train, y_train)\n",
    "    y_result_df.ix[X_test.index, 'Predicted'] = svc_poly_clf.predict(X_test)\n",
    "    y_result_df.ix[X_test.index, map(lambda x: str(x), xrange(10))] = svc_poly_clf.predict_proba(X_test)\n",
    "    \n",
    "print 'Elapsed time: ', ((time.time() - start_time) / 3600.0), 'hours'"
   ]
  },
  {
   "cell_type": "code",
   "execution_count": 6,
   "metadata": {
    "collapsed": false
   },
   "outputs": [
    {
     "data": {
      "text/html": [
       "<div>\n",
       "<table border=\"1\" class=\"dataframe\">\n",
       "  <thead>\n",
       "    <tr style=\"text-align: right;\">\n",
       "      <th></th>\n",
       "      <th>Actual</th>\n",
       "      <th>Predicted</th>\n",
       "      <th>0</th>\n",
       "      <th>1</th>\n",
       "      <th>2</th>\n",
       "      <th>3</th>\n",
       "      <th>4</th>\n",
       "      <th>5</th>\n",
       "      <th>6</th>\n",
       "      <th>7</th>\n",
       "      <th>8</th>\n",
       "      <th>9</th>\n",
       "    </tr>\n",
       "  </thead>\n",
       "  <tbody>\n",
       "    <tr>\n",
       "      <th>0</th>\n",
       "      <td>1</td>\n",
       "      <td>1</td>\n",
       "      <td>5.25626e-05</td>\n",
       "      <td>0.994604</td>\n",
       "      <td>0.000676433</td>\n",
       "      <td>7.21474e-05</td>\n",
       "      <td>0.000158113</td>\n",
       "      <td>4.00525e-05</td>\n",
       "      <td>0.000170103</td>\n",
       "      <td>9.84236e-05</td>\n",
       "      <td>0.00409917</td>\n",
       "      <td>2.90998e-05</td>\n",
       "    </tr>\n",
       "    <tr>\n",
       "      <th>1</th>\n",
       "      <td>0</td>\n",
       "      <td>0</td>\n",
       "      <td>1</td>\n",
       "      <td>1.2318e-08</td>\n",
       "      <td>4.2633e-08</td>\n",
       "      <td>1.98732e-08</td>\n",
       "      <td>1.2212e-08</td>\n",
       "      <td>2.50816e-08</td>\n",
       "      <td>5.22353e-08</td>\n",
       "      <td>1.59762e-08</td>\n",
       "      <td>1.71401e-08</td>\n",
       "      <td>1.01896e-07</td>\n",
       "    </tr>\n",
       "    <tr>\n",
       "      <th>2</th>\n",
       "      <td>1</td>\n",
       "      <td>1</td>\n",
       "      <td>2.82456e-08</td>\n",
       "      <td>0.999483</td>\n",
       "      <td>1.90311e-05</td>\n",
       "      <td>4.4817e-06</td>\n",
       "      <td>5.22244e-06</td>\n",
       "      <td>1.06001e-06</td>\n",
       "      <td>1.81068e-06</td>\n",
       "      <td>0.000330304</td>\n",
       "      <td>0.000151161</td>\n",
       "      <td>3.54407e-06</td>\n",
       "    </tr>\n",
       "    <tr>\n",
       "      <th>3</th>\n",
       "      <td>4</td>\n",
       "      <td>4</td>\n",
       "      <td>0.0195235</td>\n",
       "      <td>0.0118386</td>\n",
       "      <td>0.0480015</td>\n",
       "      <td>0.015212</td>\n",
       "      <td>0.5815</td>\n",
       "      <td>0.0509052</td>\n",
       "      <td>0.0804627</td>\n",
       "      <td>0.0629277</td>\n",
       "      <td>0.0147919</td>\n",
       "      <td>0.114837</td>\n",
       "    </tr>\n",
       "    <tr>\n",
       "      <th>4</th>\n",
       "      <td>0</td>\n",
       "      <td>0</td>\n",
       "      <td>1</td>\n",
       "      <td>1.23162e-08</td>\n",
       "      <td>4.38214e-08</td>\n",
       "      <td>1.96466e-08</td>\n",
       "      <td>1.2204e-08</td>\n",
       "      <td>2.52233e-08</td>\n",
       "      <td>5.34084e-08</td>\n",
       "      <td>1.45262e-08</td>\n",
       "      <td>1.97309e-08</td>\n",
       "      <td>1.04577e-07</td>\n",
       "    </tr>\n",
       "  </tbody>\n",
       "</table>\n",
       "</div>"
      ],
      "text/plain": [
       "   Actual  Predicted            0            1            2            3  \\\n",
       "0       1          1  5.25626e-05     0.994604  0.000676433  7.21474e-05   \n",
       "1       0          0            1   1.2318e-08   4.2633e-08  1.98732e-08   \n",
       "2       1          1  2.82456e-08     0.999483  1.90311e-05   4.4817e-06   \n",
       "3       4          4    0.0195235    0.0118386    0.0480015     0.015212   \n",
       "4       0          0            1  1.23162e-08  4.38214e-08  1.96466e-08   \n",
       "\n",
       "             4            5            6            7            8  \\\n",
       "0  0.000158113  4.00525e-05  0.000170103  9.84236e-05   0.00409917   \n",
       "1   1.2212e-08  2.50816e-08  5.22353e-08  1.59762e-08  1.71401e-08   \n",
       "2  5.22244e-06  1.06001e-06  1.81068e-06  0.000330304  0.000151161   \n",
       "3       0.5815    0.0509052    0.0804627    0.0629277    0.0147919   \n",
       "4   1.2204e-08  2.52233e-08  5.34084e-08  1.45262e-08  1.97309e-08   \n",
       "\n",
       "             9  \n",
       "0  2.90998e-05  \n",
       "1  1.01896e-07  \n",
       "2  3.54407e-06  \n",
       "3     0.114837  \n",
       "4  1.04577e-07  "
      ]
     },
     "execution_count": 6,
     "metadata": {},
     "output_type": "execute_result"
    }
   ],
   "source": [
    "y_result_df.head()"
   ]
  },
  {
   "cell_type": "markdown",
   "metadata": {},
   "source": [
    "Next, I will make a DataFrame with the actual and predictive classes, along with a column for if the prediction was correct:"
   ]
  },
  {
   "cell_type": "code",
   "execution_count": 7,
   "metadata": {
    "collapsed": false
   },
   "outputs": [
    {
     "data": {
      "text/html": [
       "<div>\n",
       "<table border=\"1\" class=\"dataframe\">\n",
       "  <thead>\n",
       "    <tr style=\"text-align: right;\">\n",
       "      <th></th>\n",
       "      <th>Actual</th>\n",
       "      <th>Predicted</th>\n",
       "      <th>0</th>\n",
       "      <th>1</th>\n",
       "      <th>2</th>\n",
       "      <th>3</th>\n",
       "      <th>4</th>\n",
       "      <th>5</th>\n",
       "      <th>6</th>\n",
       "      <th>7</th>\n",
       "      <th>8</th>\n",
       "      <th>9</th>\n",
       "      <th>is_correct</th>\n",
       "    </tr>\n",
       "  </thead>\n",
       "  <tbody>\n",
       "    <tr>\n",
       "      <th>0</th>\n",
       "      <td>1</td>\n",
       "      <td>1</td>\n",
       "      <td>5.25626e-05</td>\n",
       "      <td>0.994604</td>\n",
       "      <td>0.000676433</td>\n",
       "      <td>7.21474e-05</td>\n",
       "      <td>0.000158113</td>\n",
       "      <td>4.00525e-05</td>\n",
       "      <td>0.000170103</td>\n",
       "      <td>9.84236e-05</td>\n",
       "      <td>0.00409917</td>\n",
       "      <td>2.90998e-05</td>\n",
       "      <td>True</td>\n",
       "    </tr>\n",
       "    <tr>\n",
       "      <th>1</th>\n",
       "      <td>0</td>\n",
       "      <td>0</td>\n",
       "      <td>1</td>\n",
       "      <td>1.2318e-08</td>\n",
       "      <td>4.2633e-08</td>\n",
       "      <td>1.98732e-08</td>\n",
       "      <td>1.2212e-08</td>\n",
       "      <td>2.50816e-08</td>\n",
       "      <td>5.22353e-08</td>\n",
       "      <td>1.59762e-08</td>\n",
       "      <td>1.71401e-08</td>\n",
       "      <td>1.01896e-07</td>\n",
       "      <td>True</td>\n",
       "    </tr>\n",
       "  </tbody>\n",
       "</table>\n",
       "</div>"
      ],
      "text/plain": [
       "   Actual  Predicted            0           1            2            3  \\\n",
       "0       1          1  5.25626e-05    0.994604  0.000676433  7.21474e-05   \n",
       "1       0          0            1  1.2318e-08   4.2633e-08  1.98732e-08   \n",
       "\n",
       "             4            5            6            7            8  \\\n",
       "0  0.000158113  4.00525e-05  0.000170103  9.84236e-05   0.00409917   \n",
       "1   1.2212e-08  2.50816e-08  5.22353e-08  1.59762e-08  1.71401e-08   \n",
       "\n",
       "             9 is_correct  \n",
       "0  2.90998e-05       True  \n",
       "1  1.01896e-07       True  "
      ]
     },
     "execution_count": 7,
     "metadata": {},
     "output_type": "execute_result"
    }
   ],
   "source": [
    "y_result_df['is_correct'] = -1\n",
    "y_result_df['is_correct'] = y_result_df.apply(lambda row: row['Actual'] == row['Predicted'],axis=1)\n",
    "y_result_df.head(2)"
   ]
  },
  {
   "cell_type": "markdown",
   "metadata": {},
   "source": [
    "Let's write this to disk:"
   ]
  },
  {
   "cell_type": "code",
   "execution_count": 8,
   "metadata": {
    "collapsed": true
   },
   "outputs": [],
   "source": [
    "y_result_df.to_csv('Data/svc_classification_data.csv')"
   ]
  },
  {
   "cell_type": "markdown",
   "metadata": {},
   "source": [
    "I will now limit this to only rows that were actually 8:"
   ]
  },
  {
   "cell_type": "code",
   "execution_count": 9,
   "metadata": {
    "collapsed": false
   },
   "outputs": [
    {
     "data": {
      "text/html": [
       "<div>\n",
       "<table border=\"1\" class=\"dataframe\">\n",
       "  <thead>\n",
       "    <tr style=\"text-align: right;\">\n",
       "      <th></th>\n",
       "      <th>Predicted</th>\n",
       "      <th>0</th>\n",
       "      <th>1</th>\n",
       "      <th>2</th>\n",
       "      <th>3</th>\n",
       "      <th>4</th>\n",
       "      <th>5</th>\n",
       "      <th>6</th>\n",
       "      <th>7</th>\n",
       "      <th>8</th>\n",
       "      <th>9</th>\n",
       "      <th>is_correct</th>\n",
       "    </tr>\n",
       "  </thead>\n",
       "  <tbody>\n",
       "    <tr>\n",
       "      <th>10</th>\n",
       "      <td>8</td>\n",
       "      <td>1.28596e-10</td>\n",
       "      <td>8.51211e-11</td>\n",
       "      <td>1.03847e-10</td>\n",
       "      <td>2.99312e-10</td>\n",
       "      <td>1.23264e-10</td>\n",
       "      <td>3.27097e-10</td>\n",
       "      <td>6.71235e-11</td>\n",
       "      <td>1.28263e-10</td>\n",
       "      <td>1</td>\n",
       "      <td>2.05909e-07</td>\n",
       "      <td>True</td>\n",
       "    </tr>\n",
       "    <tr>\n",
       "      <th>20</th>\n",
       "      <td>8</td>\n",
       "      <td>6.65271e-05</td>\n",
       "      <td>2.89065e-05</td>\n",
       "      <td>0.000128953</td>\n",
       "      <td>0.00319014</td>\n",
       "      <td>1.32308e-05</td>\n",
       "      <td>0.000223924</td>\n",
       "      <td>5.09302e-06</td>\n",
       "      <td>9.39623e-06</td>\n",
       "      <td>0.992407</td>\n",
       "      <td>0.00392731</td>\n",
       "      <td>True</td>\n",
       "    </tr>\n",
       "  </tbody>\n",
       "</table>\n",
       "</div>"
      ],
      "text/plain": [
       "    Predicted            0            1            2            3  \\\n",
       "10          8  1.28596e-10  8.51211e-11  1.03847e-10  2.99312e-10   \n",
       "20          8  6.65271e-05  2.89065e-05  0.000128953   0.00319014   \n",
       "\n",
       "              4            5            6            7         8            9  \\\n",
       "10  1.23264e-10  3.27097e-10  6.71235e-11  1.28263e-10         1  2.05909e-07   \n",
       "20  1.32308e-05  0.000223924  5.09302e-06  9.39623e-06  0.992407   0.00392731   \n",
       "\n",
       "   is_correct  \n",
       "10       True  \n",
       "20       True  "
      ]
     },
     "execution_count": 9,
     "metadata": {},
     "output_type": "execute_result"
    }
   ],
   "source": [
    "y_result_8s_df = y_result_df.ix[y_result_df['Actual'] == 8,:].drop(['Actual'], axis=1)\n",
    "y_result_8s_df.head(2)"
   ]
  },
  {
   "cell_type": "markdown",
   "metadata": {},
   "source": [
    "Converting everything to numeric"
   ]
  },
  {
   "cell_type": "code",
   "execution_count": 10,
   "metadata": {
    "collapsed": false
   },
   "outputs": [],
   "source": [
    "y_result_8s_df[['0','1','2','3','4','5','6','7','8','9']] = y_result_8s_df[['0','1','2','3','4','5','6','7','8','9']].apply(lambda c: pd.to_numeric(c), axis=0)"
   ]
  },
  {
   "cell_type": "markdown",
   "metadata": {},
   "source": [
    "Now let's do some analysis based on if the actual 8 was classified correctly or not:"
   ]
  },
  {
   "cell_type": "code",
   "execution_count": 11,
   "metadata": {
    "collapsed": false
   },
   "outputs": [
    {
     "data": {
      "text/html": [
       "<div>\n",
       "<table border=\"1\" class=\"dataframe\">\n",
       "  <thead>\n",
       "    <tr style=\"text-align: right;\">\n",
       "      <th></th>\n",
       "      <th></th>\n",
       "      <th>0</th>\n",
       "      <th>1</th>\n",
       "      <th>2</th>\n",
       "      <th>3</th>\n",
       "      <th>4</th>\n",
       "      <th>5</th>\n",
       "      <th>6</th>\n",
       "      <th>7</th>\n",
       "      <th>8</th>\n",
       "      <th>9</th>\n",
       "    </tr>\n",
       "    <tr>\n",
       "      <th>is_correct</th>\n",
       "      <th></th>\n",
       "      <th></th>\n",
       "      <th></th>\n",
       "      <th></th>\n",
       "      <th></th>\n",
       "      <th></th>\n",
       "      <th></th>\n",
       "      <th></th>\n",
       "      <th></th>\n",
       "      <th></th>\n",
       "      <th></th>\n",
       "    </tr>\n",
       "  </thead>\n",
       "  <tbody>\n",
       "    <tr>\n",
       "      <th rowspan=\"8\" valign=\"top\">False</th>\n",
       "      <th>count</th>\n",
       "      <td>142.000</td>\n",
       "      <td>142.000</td>\n",
       "      <td>142.000</td>\n",
       "      <td>142.000</td>\n",
       "      <td>142.000</td>\n",
       "      <td>142.000</td>\n",
       "      <td>142.000</td>\n",
       "      <td>142.000</td>\n",
       "      <td>142.000</td>\n",
       "      <td>142.000</td>\n",
       "    </tr>\n",
       "    <tr>\n",
       "      <th>mean</th>\n",
       "      <td>0.058</td>\n",
       "      <td>0.091</td>\n",
       "      <td>0.083</td>\n",
       "      <td>0.164</td>\n",
       "      <td>0.047</td>\n",
       "      <td>0.115</td>\n",
       "      <td>0.062</td>\n",
       "      <td>0.045</td>\n",
       "      <td>0.222</td>\n",
       "      <td>0.112</td>\n",
       "    </tr>\n",
       "    <tr>\n",
       "      <th>std</th>\n",
       "      <td>0.163</td>\n",
       "      <td>0.234</td>\n",
       "      <td>0.168</td>\n",
       "      <td>0.267</td>\n",
       "      <td>0.122</td>\n",
       "      <td>0.214</td>\n",
       "      <td>0.157</td>\n",
       "      <td>0.137</td>\n",
       "      <td>0.153</td>\n",
       "      <td>0.231</td>\n",
       "    </tr>\n",
       "    <tr>\n",
       "      <th>min</th>\n",
       "      <td>0.000</td>\n",
       "      <td>0.000</td>\n",
       "      <td>0.000</td>\n",
       "      <td>0.000</td>\n",
       "      <td>0.000</td>\n",
       "      <td>0.000</td>\n",
       "      <td>0.000</td>\n",
       "      <td>0.000</td>\n",
       "      <td>0.001</td>\n",
       "      <td>0.000</td>\n",
       "    </tr>\n",
       "    <tr>\n",
       "      <th>25%</th>\n",
       "      <td>0.001</td>\n",
       "      <td>0.001</td>\n",
       "      <td>0.003</td>\n",
       "      <td>0.006</td>\n",
       "      <td>0.001</td>\n",
       "      <td>0.003</td>\n",
       "      <td>0.001</td>\n",
       "      <td>0.001</td>\n",
       "      <td>0.087</td>\n",
       "      <td>0.002</td>\n",
       "    </tr>\n",
       "    <tr>\n",
       "      <th>50%</th>\n",
       "      <td>0.006</td>\n",
       "      <td>0.006</td>\n",
       "      <td>0.016</td>\n",
       "      <td>0.032</td>\n",
       "      <td>0.006</td>\n",
       "      <td>0.020</td>\n",
       "      <td>0.006</td>\n",
       "      <td>0.006</td>\n",
       "      <td>0.222</td>\n",
       "      <td>0.014</td>\n",
       "    </tr>\n",
       "    <tr>\n",
       "      <th>75%</th>\n",
       "      <td>0.022</td>\n",
       "      <td>0.022</td>\n",
       "      <td>0.068</td>\n",
       "      <td>0.171</td>\n",
       "      <td>0.021</td>\n",
       "      <td>0.081</td>\n",
       "      <td>0.032</td>\n",
       "      <td>0.019</td>\n",
       "      <td>0.340</td>\n",
       "      <td>0.052</td>\n",
       "    </tr>\n",
       "    <tr>\n",
       "      <th>max</th>\n",
       "      <td>0.903</td>\n",
       "      <td>0.990</td>\n",
       "      <td>0.963</td>\n",
       "      <td>0.999</td>\n",
       "      <td>0.830</td>\n",
       "      <td>0.940</td>\n",
       "      <td>0.886</td>\n",
       "      <td>0.995</td>\n",
       "      <td>0.594</td>\n",
       "      <td>0.977</td>\n",
       "    </tr>\n",
       "    <tr>\n",
       "      <th rowspan=\"8\" valign=\"top\">True</th>\n",
       "      <th>count</th>\n",
       "      <td>3921.000</td>\n",
       "      <td>3921.000</td>\n",
       "      <td>3921.000</td>\n",
       "      <td>3921.000</td>\n",
       "      <td>3921.000</td>\n",
       "      <td>3921.000</td>\n",
       "      <td>3921.000</td>\n",
       "      <td>3921.000</td>\n",
       "      <td>3921.000</td>\n",
       "      <td>3921.000</td>\n",
       "    </tr>\n",
       "    <tr>\n",
       "      <th>mean</th>\n",
       "      <td>0.001</td>\n",
       "      <td>0.002</td>\n",
       "      <td>0.004</td>\n",
       "      <td>0.008</td>\n",
       "      <td>0.002</td>\n",
       "      <td>0.005</td>\n",
       "      <td>0.002</td>\n",
       "      <td>0.002</td>\n",
       "      <td>0.969</td>\n",
       "      <td>0.005</td>\n",
       "    </tr>\n",
       "    <tr>\n",
       "      <th>std</th>\n",
       "      <td>0.011</td>\n",
       "      <td>0.016</td>\n",
       "      <td>0.022</td>\n",
       "      <td>0.029</td>\n",
       "      <td>0.011</td>\n",
       "      <td>0.025</td>\n",
       "      <td>0.014</td>\n",
       "      <td>0.013</td>\n",
       "      <td>0.086</td>\n",
       "      <td>0.023</td>\n",
       "    </tr>\n",
       "    <tr>\n",
       "      <th>min</th>\n",
       "      <td>0.000</td>\n",
       "      <td>0.000</td>\n",
       "      <td>0.000</td>\n",
       "      <td>0.000</td>\n",
       "      <td>0.000</td>\n",
       "      <td>0.000</td>\n",
       "      <td>0.000</td>\n",
       "      <td>0.000</td>\n",
       "      <td>0.200</td>\n",
       "      <td>0.000</td>\n",
       "    </tr>\n",
       "    <tr>\n",
       "      <th>25%</th>\n",
       "      <td>0.000</td>\n",
       "      <td>0.000</td>\n",
       "      <td>0.000</td>\n",
       "      <td>0.000</td>\n",
       "      <td>0.000</td>\n",
       "      <td>0.000</td>\n",
       "      <td>0.000</td>\n",
       "      <td>0.000</td>\n",
       "      <td>0.988</td>\n",
       "      <td>0.000</td>\n",
       "    </tr>\n",
       "    <tr>\n",
       "      <th>50%</th>\n",
       "      <td>0.000</td>\n",
       "      <td>0.000</td>\n",
       "      <td>0.000</td>\n",
       "      <td>0.000</td>\n",
       "      <td>0.000</td>\n",
       "      <td>0.000</td>\n",
       "      <td>0.000</td>\n",
       "      <td>0.000</td>\n",
       "      <td>0.999</td>\n",
       "      <td>0.000</td>\n",
       "    </tr>\n",
       "    <tr>\n",
       "      <th>75%</th>\n",
       "      <td>0.000</td>\n",
       "      <td>0.000</td>\n",
       "      <td>0.001</td>\n",
       "      <td>0.002</td>\n",
       "      <td>0.000</td>\n",
       "      <td>0.000</td>\n",
       "      <td>0.000</td>\n",
       "      <td>0.000</td>\n",
       "      <td>1.000</td>\n",
       "      <td>0.001</td>\n",
       "    </tr>\n",
       "    <tr>\n",
       "      <th>max</th>\n",
       "      <td>0.381</td>\n",
       "      <td>0.411</td>\n",
       "      <td>0.457</td>\n",
       "      <td>0.513</td>\n",
       "      <td>0.303</td>\n",
       "      <td>0.407</td>\n",
       "      <td>0.412</td>\n",
       "      <td>0.333</td>\n",
       "      <td>1.000</td>\n",
       "      <td>0.395</td>\n",
       "    </tr>\n",
       "  </tbody>\n",
       "</table>\n",
       "</div>"
      ],
      "text/plain": [
       "                         0         1         2         3         4         5  \\\n",
       "is_correct                                                                     \n",
       "False      count   142.000   142.000   142.000   142.000   142.000   142.000   \n",
       "           mean      0.058     0.091     0.083     0.164     0.047     0.115   \n",
       "           std       0.163     0.234     0.168     0.267     0.122     0.214   \n",
       "           min       0.000     0.000     0.000     0.000     0.000     0.000   \n",
       "           25%       0.001     0.001     0.003     0.006     0.001     0.003   \n",
       "           50%       0.006     0.006     0.016     0.032     0.006     0.020   \n",
       "           75%       0.022     0.022     0.068     0.171     0.021     0.081   \n",
       "           max       0.903     0.990     0.963     0.999     0.830     0.940   \n",
       "True       count  3921.000  3921.000  3921.000  3921.000  3921.000  3921.000   \n",
       "           mean      0.001     0.002     0.004     0.008     0.002     0.005   \n",
       "           std       0.011     0.016     0.022     0.029     0.011     0.025   \n",
       "           min       0.000     0.000     0.000     0.000     0.000     0.000   \n",
       "           25%       0.000     0.000     0.000     0.000     0.000     0.000   \n",
       "           50%       0.000     0.000     0.000     0.000     0.000     0.000   \n",
       "           75%       0.000     0.000     0.001     0.002     0.000     0.000   \n",
       "           max       0.381     0.411     0.457     0.513     0.303     0.407   \n",
       "\n",
       "                         6         7         8         9  \n",
       "is_correct                                                \n",
       "False      count   142.000   142.000   142.000   142.000  \n",
       "           mean      0.062     0.045     0.222     0.112  \n",
       "           std       0.157     0.137     0.153     0.231  \n",
       "           min       0.000     0.000     0.001     0.000  \n",
       "           25%       0.001     0.001     0.087     0.002  \n",
       "           50%       0.006     0.006     0.222     0.014  \n",
       "           75%       0.032     0.019     0.340     0.052  \n",
       "           max       0.886     0.995     0.594     0.977  \n",
       "True       count  3921.000  3921.000  3921.000  3921.000  \n",
       "           mean      0.002     0.002     0.969     0.005  \n",
       "           std       0.014     0.013     0.086     0.023  \n",
       "           min       0.000     0.000     0.200     0.000  \n",
       "           25%       0.000     0.000     0.988     0.000  \n",
       "           50%       0.000     0.000     0.999     0.000  \n",
       "           75%       0.000     0.000     1.000     0.001  \n",
       "           max       0.412     0.333     1.000     0.395  "
      ]
     },
     "execution_count": 11,
     "metadata": {},
     "output_type": "execute_result"
    }
   ],
   "source": [
    "y_result_8s_grouped_describe = y_result_8s_df.groupby(['is_correct'])[['0','1','2','3','4','5','6','7','8','9']].describe()\n",
    "y_result_8s_grouped_describe.applymap(lambda x: round(x,3))"
   ]
  },
  {
   "cell_type": "markdown",
   "metadata": {},
   "source": [
    "## Plotting differences between correct and incorrect prediction probabilities"
   ]
  },
  {
   "cell_type": "code",
   "execution_count": 12,
   "metadata": {
    "collapsed": false
   },
   "outputs": [
    {
     "data": {
      "text/plain": [
       "<matplotlib.text.Text at 0x29008b38>"
      ]
     },
     "execution_count": 12,
     "metadata": {},
     "output_type": "execute_result"
    },
    {
     "data": {
      "image/png": "[encoded data removed]",
      "text/plain": [
       "<matplotlib.figure.Figure at 0xa3e5f60>"
      ]
     },
     "metadata": {},
     "output_type": "display_data"
    }
   ],
   "source": [
    "plt.plot(xrange(10), y_result_8s_grouped_describe.ix[(True,'mean')], 'bo')\n",
    "plt.plot(xrange(10), y_result_8s_grouped_describe.ix[(False,'mean')], 'r^')\n",
    "plt.legend(['Correct', 'Misclassified'], loc='upper left')\n",
    "ax = plt.gca()\n",
    "ax.set_xlabel('Number')\n",
    "ax.set_ylabel('Mean Prediction Probability')\n",
    "ax.set_title('Prediction Probabilites for numbers when actual number is 8')"
   ]
  },
  {
   "cell_type": "markdown",
   "metadata": {},
   "source": [
    "## Plotting distribution of prediction probs of 8 for correct and misclassified"
   ]
  },
  {
   "cell_type": "code",
   "execution_count": 17,
   "metadata": {
    "collapsed": false
   },
   "outputs": [
    {
     "data": {
      "text/plain": [
       "<matplotlib.legend.Legend at 0x2d084860>"
      ]
     },
     "execution_count": 17,
     "metadata": {},
     "output_type": "execute_result"
    },
    {
     "data": {
      "image/png": "[encoded data removed]",
      "text/plain": [
       "<matplotlib.figure.Figure at 0x224a8a58>"
      ]
     },
     "metadata": {},
     "output_type": "display_data"
    }
   ],
   "source": [
    "plt.hist(y_result_8s_df.ix[y_result_8s_df['is_correct'],'8'].values, bins=50, alpha=0.5, color='b');\n",
    "plt.hist(y_result_8s_df.ix[~y_result_8s_df['is_correct'],'8'].values, bins=50, alpha=0.5, color='r');\n",
    "ax = plt.gca();\n",
    "ax.set_ylim([0,15]);\n",
    "ax.set_xlabel('Prediction Prob for 8')\n",
    "ax.set_ylabel('Count')\n",
    "ax.legend(['Correct','Misclassified'], loc='upper left')"
   ]
  },
  {
   "cell_type": "markdown",
   "metadata": {},
   "source": [
    "This shows that a cut-off near a prediction probability of ~0.4 will capture most of the incorrectly classified 8s. The remainder can undergo further analysis"
   ]
  },
  {
   "cell_type": "markdown",
   "metadata": {
    "collapsed": true
   },
   "source": [
    "## Predicting with prediction probabilities\n",
    "\n",
    "Given the prediction probabilities, can I generate an AdaBoost tree model that will improve the prediction accuracy?\n",
    "\n",
    "First, let's calculate the current CV accuracy:"
   ]
  },
  {
   "cell_type": "code",
   "execution_count": 21,
   "metadata": {
    "collapsed": false
   },
   "outputs": [
    {
     "data": {
      "text/plain": [
       "0.9759523809523809"
      ]
     },
     "execution_count": 21,
     "metadata": {},
     "output_type": "execute_result"
    }
   ],
   "source": [
    "np.mean(map(lambda prediction: 1 if prediction else 0, y_result_df['is_correct']))"
   ]
  },
  {
   "cell_type": "markdown",
   "metadata": {},
   "source": [
    "### Generating design matrix with prediction probabilities"
   ]
  },
  {
   "cell_type": "code",
   "execution_count": 29,
   "metadata": {
    "collapsed": false
   },
   "outputs": [],
   "source": [
    "X_pp = y_result_df.drop(['is_correct','Actual','Predicted'], axis=1)\n",
    "y_pp = y_result_df['Actual']\n",
    "\n",
    "X_pp_train, X_pp_test, y_pp_train, y_pp_test = skl_cv.train_test_split(X_pp, y_pp, test_size = 0.2)"
   ]
  },
  {
   "cell_type": "code",
   "execution_count": 26,
   "metadata": {
    "collapsed": false
   },
   "outputs": [],
   "source": [
    "import sklearn.ensemble as skl_ensemble\n",
    "import sklearn.tree as skl_tree\n",
    "\n",
    "dt_stump_clf = skl_tree.DecisionTreeClassifier(max_depth=1)\n",
    "dt_clf = skl_tree.DecisionTreeClassifier()"
   ]
  },
  {
   "cell_type": "markdown",
   "metadata": {},
   "source": [
    "#### Base Estimator accuracy"
   ]
  },
  {
   "cell_type": "code",
   "execution_count": 27,
   "metadata": {
    "collapsed": true
   },
   "outputs": [],
   "source": [
    "accuracy_dt_stump = np.mean(skl_cv.cross_val_score(dt_stump_clf, X_pp, y_pp, cv=5))"
   ]
  },
  {
   "cell_type": "markdown",
   "metadata": {},
   "source": [
    "#### AdaBoost Stump Model"
   ]
  },
  {
   "cell_type": "code",
   "execution_count": null,
   "metadata": {
    "collapsed": true
   },
   "outputs": [],
   "source": [
    "ada_dt_stump_clf = skl_ensemble.AdaBoostClassifier(\n",
    "    base_estimator=dt_stump_clf,\n",
    "    n_estimators=5000,\n",
    "    learning_rate=0.1\n",
    ")\n",
    "ada_dt_stump_clf.fit(X_pp_train, y_pp_train)\n",
    "\n",
    "ada_dt_stump_staged_accuracies = []\n",
    "for index, y_pred in enumerate(ada_dt_stump_clf.staged_predict(X_pp_test)):\n",
    "    current_accuracy = np.mean(y_pred == y_pp_test)\n",
    "    ada_dt_stump_staged_accuracies.append([index, current_accuracy])\n",
    "    ada_dt_stump_clf\n",
    "\n",
    "ada_dt_stump_staged_accuracies = pd.DataFrame(ada_dt_stump_staged_accuracies, columns=['Stage', 'Accuracy'])"
   ]
  },
  {
   "cell_type": "markdown",
   "metadata": {},
   "source": [
    "Plotting the staged accuracy of the DT stump"
   ]
  },
  {
   "cell_type": "code",
   "execution_count": 33,
   "metadata": {
    "collapsed": false
   },
   "outputs": [
    {
     "data": {
      "text/plain": [
       "<matplotlib.text.Text at 0x2d10b828>"
      ]
     },
     "execution_count": 33,
     "metadata": {},
     "output_type": "execute_result"
    },
    {
     "data": {
      "image/png": "[encoded data removed]",
      "text/plain": [
       "<matplotlib.figure.Figure at 0xc650f98>"
      ]
     },
     "metadata": {},
     "output_type": "display_data"
    }
   ],
   "source": [
    "plt.axhline(accuracy_dt_stump, color='black')\n",
    "plt.plot(ada_dt_stump_staged_accuracies['Stage'], ada_dt_stump_staged_accuracies['Accuracy'])\n",
    "ax = plt.gca()\n",
    "ax.set_ylim([0,1])\n",
    "ax.legend(['Decision Tree (Stump)', 'AdaBoost'])\n",
    "ax.set_xlabel('# of estimators')\n",
    "ax.set_ylabel('Accuracy')\n",
    "ax.set_title('Number Classification Accuracy of Difference Tree Models')    "
   ]
  },
  {
   "cell_type": "markdown",
   "metadata": {},
   "source": [
    "#### AdaBoost DT Model"
   ]
  },
  {
   "cell_type": "code",
   "execution_count": 35,
   "metadata": {
    "collapsed": false
   },
   "outputs": [],
   "source": [
    "ada_dt_clf = skl_ensemble.AdaBoostClassifier(\n",
    "    base_estimator=dt_clf,\n",
    "    learning_rate=0.1,\n",
    "    n_estimators=5000)\n",
    "ada_dt_clf.fit(X_pp_train, y_pp_train)\n",
    "\n",
    "ada_dt_staged_accuracies = []\n",
    "for index, y_pred in enumerate(ada_dt_clf.staged_predict(X_pp_test)):\n",
    "    current_accuracy = np.mean(y_pred == y_pp_test)\n",
    "    ada_dt_staged_accuracies.append([index, current_accuracy])\n",
    "\n",
    "ada_dt_staged_accuracies = pd.DataFrame(ada_dt_staged_accuracies, columns=['Stage', 'Accuracy'])"
   ]
  },
  {
   "cell_type": "code",
   "execution_count": 39,
   "metadata": {
    "collapsed": false
   },
   "outputs": [
    {
     "data": {
      "text/plain": [
       "<matplotlib.text.Text at 0xcc18deb8>"
      ]
     },
     "execution_count": 39,
     "metadata": {},
     "output_type": "execute_result"
    },
    {
     "data": {
      "image/png": "[encoded data removed]",
      "text/plain": [
       "<matplotlib.figure.Figure at 0x22ebda58>"
      ]
     },
     "metadata": {},
     "output_type": "display_data"
    }
   ],
   "source": [
    "plt.axhline(accuracy_dt_stump, color='black')\n",
    "plt.plot(ada_dt_stump_staged_accuracies['Stage'], ada_dt_stump_staged_accuracies['Accuracy'])\n",
    "plt.plot(ada_dt_staged_accuracies['Stage'], ada_dt_staged_accuracies['Accuracy'])\n",
    "\n",
    "plt.plot(ada_dt_stump_staged_accuracies['Accuracy'].idxmax(), ada_dt_stump_staged_accuracies['Accuracy'].max(), marker='^', c='m', linestyle='None')\n",
    "plt.plot(ada_dt_staged_accuracies['Accuracy'].idxmax(), ada_dt_staged_accuracies['Accuracy'].max(), marker='^', c='r', linestyle='None')\n",
    "ax = plt.gca()\n",
    "ax.set_xlim([0,300])\n",
    "ax.set_ylim([0.9,1])\n",
    "ax.legend(['Decision Tree (Stump)', 'AdaBoost (Stump)','AdaBoost (Depth > 1)','Max Accuracy AdaBoost (Stump)','Max Accuracy AdaBoost (Depth > 1)'])\n",
    "ax.set_xlabel('# of estimators')\n",
    "ax.set_ylabel('Accuracy')\n",
    "ax.set_title('Number Classification Accuracy of Difference Tree Models')    "
   ]
  },
  {
   "cell_type": "code",
   "execution_count": 44,
   "metadata": {
    "collapsed": false
   },
   "outputs": [
    {
     "data": {
      "text/plain": [
       "Stage       101.000000\n",
       "Accuracy      0.975476\n",
       "Name: 101, dtype: float64"
      ]
     },
     "execution_count": 44,
     "metadata": {},
     "output_type": "execute_result"
    }
   ],
   "source": [
    "ada_dt_stump_staged_accuracies.ix[ada_dt_stump_staged_accuracies['Accuracy'].idxmax(),:]"
   ]
  },
  {
   "cell_type": "markdown",
   "metadata": {},
   "source": [
    "#### SVC on prediction probs"
   ]
  },
  {
   "cell_type": "code",
   "execution_count": 59,
   "metadata": {
    "collapsed": false
   },
   "outputs": [
    {
     "data": {
      "text/plain": [
       "array([8, 0, 5, ..., 2, 3, 8], dtype=int64)"
      ]
     },
     "execution_count": 59,
     "metadata": {},
     "output_type": "execute_result"
    }
   ],
   "source": [
    "svc_poly_clf = skl_svm.SVC(\n",
    "    degree=2, \n",
    "    gamma='auto', \n",
    "    kernel='poly', \n",
    "    tol=0.001,\n",
    "    cache_size=2000\n",
    ")\n",
    "svc_poly_clf.fit(X_pp.ix[0:4000,:], y_pp.ix[0:4000])\n",
    "svc_poly_clf.predict(X_pp.ix[4001:8000,:])\n",
    "\n",
    "#skl_cv.cross_val_score(svc_poly_clf, X_pp, y_pp, cv=5)"
   ]
  },
  {
   "cell_type": "markdown",
   "metadata": {},
   "source": [
    "Watch out: the C value prevented this from making good predictions"
   ]
  },
  {
   "cell_type": "markdown",
   "metadata": {},
   "source": [
    "#### SVC with AdaBoost (currently too compuatationally intenstive)"
   ]
  },
  {
   "cell_type": "code",
   "execution_count": 42,
   "metadata": {
    "collapsed": true
   },
   "outputs": [
    {
     "ename": "KeyboardInterrupt",
     "evalue": "",
     "output_type": "error",
     "traceback": [
      "\u001b[1;31m---------------------------------------------------------------------------\u001b[0m",
      "\u001b[1;31mKeyboardInterrupt\u001b[0m                         Traceback (most recent call last)",
      "\u001b[1;32m<ipython-input-42-d3399a5b31a9>\u001b[0m in \u001b[0;36m<module>\u001b[1;34m()\u001b[0m\n\u001b[0;32m     12\u001b[0m     \u001b[0mlearning_rate\u001b[0m\u001b[1;33m=\u001b[0m\u001b[1;36m0.1\u001b[0m\u001b[1;33m,\u001b[0m\u001b[1;33m\u001b[0m\u001b[0m\n\u001b[0;32m     13\u001b[0m     n_estimators=30)\n\u001b[1;32m---> 14\u001b[1;33m \u001b[0mada_svc_clf\u001b[0m\u001b[1;33m.\u001b[0m\u001b[0mfit\u001b[0m\u001b[1;33m(\u001b[0m\u001b[0mX_pp_train\u001b[0m\u001b[1;33m,\u001b[0m \u001b[0my_pp_train\u001b[0m\u001b[1;33m)\u001b[0m\u001b[1;33m\u001b[0m\u001b[0m\n\u001b[0m\u001b[0;32m     15\u001b[0m \u001b[1;33m\u001b[0m\u001b[0m\n\u001b[0;32m     16\u001b[0m \u001b[0mada_svc_staged_accuracies\u001b[0m \u001b[1;33m=\u001b[0m \u001b[1;33m[\u001b[0m\u001b[1;33m]\u001b[0m\u001b[1;33m\u001b[0m\u001b[0m\n",
      "\u001b[1;32mC:\\Users\\Lundi\\Miniconda2\\lib\\site-packages\\sklearn\\ensemble\\weight_boosting.pyc\u001b[0m in \u001b[0;36mfit\u001b[1;34m(self, X, y, sample_weight)\u001b[0m\n\u001b[0;32m    403\u001b[0m \u001b[1;33m\u001b[0m\u001b[0m\n\u001b[0;32m    404\u001b[0m         \u001b[1;31m# Fit\u001b[0m\u001b[1;33m\u001b[0m\u001b[1;33m\u001b[0m\u001b[0m\n\u001b[1;32m--> 405\u001b[1;33m         \u001b[1;32mreturn\u001b[0m \u001b[0msuper\u001b[0m\u001b[1;33m(\u001b[0m\u001b[0mAdaBoostClassifier\u001b[0m\u001b[1;33m,\u001b[0m \u001b[0mself\u001b[0m\u001b[1;33m)\u001b[0m\u001b[1;33m.\u001b[0m\u001b[0mfit\u001b[0m\u001b[1;33m(\u001b[0m\u001b[0mX\u001b[0m\u001b[1;33m,\u001b[0m \u001b[0my\u001b[0m\u001b[1;33m,\u001b[0m \u001b[0msample_weight\u001b[0m\u001b[1;33m)\u001b[0m\u001b[1;33m\u001b[0m\u001b[0m\n\u001b[0m\u001b[0;32m    406\u001b[0m \u001b[1;33m\u001b[0m\u001b[0m\n\u001b[0;32m    407\u001b[0m     \u001b[1;32mdef\u001b[0m \u001b[0m_validate_estimator\u001b[0m\u001b[1;33m(\u001b[0m\u001b[0mself\u001b[0m\u001b[1;33m)\u001b[0m\u001b[1;33m:\u001b[0m\u001b[1;33m\u001b[0m\u001b[0m\n",
      "\u001b[1;32mC:\\Users\\Lundi\\Miniconda2\\lib\\site-packages\\sklearn\\ensemble\\weight_boosting.pyc\u001b[0m in \u001b[0;36mfit\u001b[1;34m(self, X, y, sample_weight)\u001b[0m\n\u001b[0;32m    138\u001b[0m                 \u001b[0miboost\u001b[0m\u001b[1;33m,\u001b[0m\u001b[1;33m\u001b[0m\u001b[0m\n\u001b[0;32m    139\u001b[0m                 \u001b[0mX\u001b[0m\u001b[1;33m,\u001b[0m \u001b[0my\u001b[0m\u001b[1;33m,\u001b[0m\u001b[1;33m\u001b[0m\u001b[0m\n\u001b[1;32m--> 140\u001b[1;33m                 sample_weight)\n\u001b[0m\u001b[0;32m    141\u001b[0m \u001b[1;33m\u001b[0m\u001b[0m\n\u001b[0;32m    142\u001b[0m             \u001b[1;31m# Early termination\u001b[0m\u001b[1;33m\u001b[0m\u001b[1;33m\u001b[0m\u001b[0m\n",
      "\u001b[1;32mC:\\Users\\Lundi\\Miniconda2\\lib\\site-packages\\sklearn\\ensemble\\weight_boosting.pyc\u001b[0m in \u001b[0;36m_boost\u001b[1;34m(self, iboost, X, y, sample_weight)\u001b[0m\n\u001b[0;32m    460\u001b[0m         \"\"\"\n\u001b[0;32m    461\u001b[0m         \u001b[1;32mif\u001b[0m \u001b[0mself\u001b[0m\u001b[1;33m.\u001b[0m\u001b[0malgorithm\u001b[0m \u001b[1;33m==\u001b[0m \u001b[1;34m'SAMME.R'\u001b[0m\u001b[1;33m:\u001b[0m\u001b[1;33m\u001b[0m\u001b[0m\n\u001b[1;32m--> 462\u001b[1;33m             \u001b[1;32mreturn\u001b[0m \u001b[0mself\u001b[0m\u001b[1;33m.\u001b[0m\u001b[0m_boost_real\u001b[0m\u001b[1;33m(\u001b[0m\u001b[0miboost\u001b[0m\u001b[1;33m,\u001b[0m \u001b[0mX\u001b[0m\u001b[1;33m,\u001b[0m \u001b[0my\u001b[0m\u001b[1;33m,\u001b[0m \u001b[0msample_weight\u001b[0m\u001b[1;33m)\u001b[0m\u001b[1;33m\u001b[0m\u001b[0m\n\u001b[0m\u001b[0;32m    463\u001b[0m \u001b[1;33m\u001b[0m\u001b[0m\n\u001b[0;32m    464\u001b[0m         \u001b[1;32melse\u001b[0m\u001b[1;33m:\u001b[0m  \u001b[1;31m# elif self.algorithm == \"SAMME\":\u001b[0m\u001b[1;33m\u001b[0m\u001b[0m\n",
      "\u001b[1;32mC:\\Users\\Lundi\\Miniconda2\\lib\\site-packages\\sklearn\\ensemble\\weight_boosting.pyc\u001b[0m in \u001b[0;36m_boost_real\u001b[1;34m(self, iboost, X, y, sample_weight)\u001b[0m\n\u001b[0;32m    474\u001b[0m             \u001b[1;32mpass\u001b[0m\u001b[1;33m\u001b[0m\u001b[0m\n\u001b[0;32m    475\u001b[0m \u001b[1;33m\u001b[0m\u001b[0m\n\u001b[1;32m--> 476\u001b[1;33m         \u001b[0mestimator\u001b[0m\u001b[1;33m.\u001b[0m\u001b[0mfit\u001b[0m\u001b[1;33m(\u001b[0m\u001b[0mX\u001b[0m\u001b[1;33m,\u001b[0m \u001b[0my\u001b[0m\u001b[1;33m,\u001b[0m \u001b[0msample_weight\u001b[0m\u001b[1;33m=\u001b[0m\u001b[0msample_weight\u001b[0m\u001b[1;33m)\u001b[0m\u001b[1;33m\u001b[0m\u001b[0m\n\u001b[0m\u001b[0;32m    477\u001b[0m \u001b[1;33m\u001b[0m\u001b[0m\n\u001b[0;32m    478\u001b[0m         \u001b[0my_predict_proba\u001b[0m \u001b[1;33m=\u001b[0m \u001b[0mestimator\u001b[0m\u001b[1;33m.\u001b[0m\u001b[0mpredict_proba\u001b[0m\u001b[1;33m(\u001b[0m\u001b[0mX\u001b[0m\u001b[1;33m)\u001b[0m\u001b[1;33m\u001b[0m\u001b[0m\n",
      "\u001b[1;32mC:\\Users\\Lundi\\Miniconda2\\lib\\site-packages\\sklearn\\svm\\base.pyc\u001b[0m in \u001b[0;36mfit\u001b[1;34m(self, X, y, sample_weight)\u001b[0m\n\u001b[0;32m    191\u001b[0m \u001b[1;33m\u001b[0m\u001b[0m\n\u001b[0;32m    192\u001b[0m         \u001b[0mseed\u001b[0m \u001b[1;33m=\u001b[0m \u001b[0mrnd\u001b[0m\u001b[1;33m.\u001b[0m\u001b[0mrandint\u001b[0m\u001b[1;33m(\u001b[0m\u001b[0mnp\u001b[0m\u001b[1;33m.\u001b[0m\u001b[0miinfo\u001b[0m\u001b[1;33m(\u001b[0m\u001b[1;34m'i'\u001b[0m\u001b[1;33m)\u001b[0m\u001b[1;33m.\u001b[0m\u001b[0mmax\u001b[0m\u001b[1;33m)\u001b[0m\u001b[1;33m\u001b[0m\u001b[0m\n\u001b[1;32m--> 193\u001b[1;33m         \u001b[0mfit\u001b[0m\u001b[1;33m(\u001b[0m\u001b[0mX\u001b[0m\u001b[1;33m,\u001b[0m \u001b[0my\u001b[0m\u001b[1;33m,\u001b[0m \u001b[0msample_weight\u001b[0m\u001b[1;33m,\u001b[0m \u001b[0msolver_type\u001b[0m\u001b[1;33m,\u001b[0m \u001b[0mkernel\u001b[0m\u001b[1;33m,\u001b[0m \u001b[0mrandom_seed\u001b[0m\u001b[1;33m=\u001b[0m\u001b[0mseed\u001b[0m\u001b[1;33m)\u001b[0m\u001b[1;33m\u001b[0m\u001b[0m\n\u001b[0m\u001b[0;32m    194\u001b[0m         \u001b[1;31m# see comment on the other call to np.iinfo in this file\u001b[0m\u001b[1;33m\u001b[0m\u001b[1;33m\u001b[0m\u001b[0m\n\u001b[0;32m    195\u001b[0m \u001b[1;33m\u001b[0m\u001b[0m\n",
      "\u001b[1;32mC:\\Users\\Lundi\\Miniconda2\\lib\\site-packages\\sklearn\\svm\\base.pyc\u001b[0m in \u001b[0;36m_dense_fit\u001b[1;34m(self, X, y, sample_weight, solver_type, kernel, random_seed)\u001b[0m\n\u001b[0;32m    249\u001b[0m                 \u001b[0mcache_size\u001b[0m\u001b[1;33m=\u001b[0m\u001b[0mself\u001b[0m\u001b[1;33m.\u001b[0m\u001b[0mcache_size\u001b[0m\u001b[1;33m,\u001b[0m \u001b[0mcoef0\u001b[0m\u001b[1;33m=\u001b[0m\u001b[0mself\u001b[0m\u001b[1;33m.\u001b[0m\u001b[0mcoef0\u001b[0m\u001b[1;33m,\u001b[0m\u001b[1;33m\u001b[0m\u001b[0m\n\u001b[0;32m    250\u001b[0m                 \u001b[0mgamma\u001b[0m\u001b[1;33m=\u001b[0m\u001b[0mself\u001b[0m\u001b[1;33m.\u001b[0m\u001b[0m_gamma\u001b[0m\u001b[1;33m,\u001b[0m \u001b[0mepsilon\u001b[0m\u001b[1;33m=\u001b[0m\u001b[0mself\u001b[0m\u001b[1;33m.\u001b[0m\u001b[0mepsilon\u001b[0m\u001b[1;33m,\u001b[0m\u001b[1;33m\u001b[0m\u001b[0m\n\u001b[1;32m--> 251\u001b[1;33m                 max_iter=self.max_iter, random_seed=random_seed)\n\u001b[0m\u001b[0;32m    252\u001b[0m \u001b[1;33m\u001b[0m\u001b[0m\n\u001b[0;32m    253\u001b[0m         \u001b[0mself\u001b[0m\u001b[1;33m.\u001b[0m\u001b[0m_warn_from_fit_status\u001b[0m\u001b[1;33m(\u001b[0m\u001b[1;33m)\u001b[0m\u001b[1;33m\u001b[0m\u001b[0m\n",
      "\u001b[1;32msklearn/svm/libsvm.pyx\u001b[0m in \u001b[0;36msklearn.svm.libsvm.fit (sklearn\\svm\\libsvm.c:2261)\u001b[1;34m()\u001b[0m\n",
      "\u001b[1;31mKeyboardInterrupt\u001b[0m: "
     ]
    }
   ],
   "source": [
    "ada_svc_clf = skl_ensemble.AdaBoostClassifier(\n",
    "    base_estimator=svc_poly_clf,\n",
    "    learning_rate=0.1,\n",
    "    n_estimators=30)\n",
    "ada_svc_clf.fit(X_pp_train, y_pp_train)\n",
    "\n",
    "ada_svc_staged_accuracies = []\n",
    "for index, y_pred in enumerate(ada_svc_clf.staged_predict(X_pp_test)):\n",
    "    current_accuracy = np.mean(y_pred == y_pp_test)\n",
    "    ada_svc_staged_accuracies.append([index, current_accuracy])\n",
    "\n",
    "ada_svc_staged_accuracies = pd.DataFrame(ada_svc_staged_accuracies, columns=['Stage', 'Accuracy'])"
   ]
  },
  {
   "cell_type": "code",
   "execution_count": null,
   "metadata": {
    "collapsed": true
   },
   "outputs": [],
   "source": []
  }
 ],
 "metadata": {
  "kernelspec": {
   "display_name": "Python 2",
   "language": "python",
   "name": "python2"
  },
  "language_info": {
   "codemirror_mode": {
    "name": "ipython",
    "version": 2
   },
   "file_extension": ".py",
   "mimetype": "text/x-python",
   "name": "python",
   "nbconvert_exporter": "python",
   "pygments_lexer": "ipython2",
   "version": "2.7.10"
  }
 },
 "nbformat": 4,
 "nbformat_minor": 0
}
